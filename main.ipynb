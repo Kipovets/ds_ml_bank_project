{
 "cells": [
  {
   "cell_type": "markdown",
   "source": [
    "<h1>Содержание<span class=\"tocSkip\"></span></h1>\n",
    "<div class=\"toc\"><ul class=\"toc-item\"><li><span><a href=\"#Подготовка-данных\" data-toc-modified-id=\"Подготовка-данных-1\"><span class=\"toc-item-num\">1&nbsp;&nbsp;</span>Подготовка данных</a></span></li><li><span><a href=\"#Исследование-задачи\" data-toc-modified-id=\"Исследование-задачи-2\"><span class=\"toc-item-num\">2&nbsp;&nbsp;</span>Исследование задачи</a></span></li><li><span><a href=\"#Борьба-с-дисбалансом\" data-toc-modified-id=\"Борьба-с-дисбалансом-3\"><span class=\"toc-item-num\">3&nbsp;&nbsp;</span>Борьба с дисбалансом</a></span></li><li><span><a href=\"#Тестирование-модели\" data-toc-modified-id=\"Тестирование-модели-4\"><span class=\"toc-item-num\">4&nbsp;&nbsp;</span>Тестирование модели</a></span></li><li><span><a href=\"#Чек-лист-готовности-проекта\" data-toc-modified-id=\"Чек-лист-готовности-проекта-5\"><span class=\"toc-item-num\">5&nbsp;&nbsp;</span>Чек-лист готовности проекта</a></span></li></ul></div>"
   ],
   "metadata": {
    "collapsed": false
   }
  },
  {
   "cell_type": "markdown",
   "source": [
    "# Отток клиентов"
   ],
   "metadata": {
    "collapsed": false
   }
  },
  {
   "cell_type": "markdown",
   "source": [
    "Из «Бета-Банка» стали уходить клиенты. Каждый месяц. Немного, но заметно. Банковские маркетологи посчитали: сохранять текущих клиентов дешевле, чем привлекать новых.\n",
    "\n",
    "Нужно спрогнозировать, уйдёт клиент из банка в ближайшее время или нет. Вам предоставлены исторические данные о поведении клиентов и расторжении договоров с банком.\n",
    "\n",
    "Постройте модель с предельно большим значением *F1*-меры. Чтобы сдать проект успешно, нужно довести метрику до 0.59. Проверьте *F1*-меру на тестовой выборке самостоятельно.\n",
    "\n",
    "Дополнительно измеряйте *AUC-ROC*, сравнивайте её значение с *F1*-мерой.\n",
    "\n",
    "Источник данных: [https://www.kaggle.com/barelydedicated/bank-customer-churn-modeling](https://www.kaggle.com/barelydedicated/bank-customer-churn-modeling)"
   ],
   "metadata": {
    "collapsed": false
   }
  },
  {
   "cell_type": "markdown",
   "source": [
    "## Подготовка данных"
   ],
   "metadata": {
    "collapsed": false
   }
  },
  {
   "cell_type": "code",
   "execution_count": 1,
   "outputs": [
    {
     "name": "stdout",
     "output_type": "stream",
     "text": [
      "Requirement already satisfied: scikit-learn==1.1.3 in c:\\users\\professional\\anaconda3\\lib\\site-packages (1.1.3)\n",
      "Requirement already satisfied: scipy>=1.3.2 in c:\\users\\professional\\anaconda3\\lib\\site-packages (from scikit-learn==1.1.3) (1.9.1)\n",
      "Requirement already satisfied: joblib>=1.0.0 in c:\\users\\professional\\anaconda3\\lib\\site-packages (from scikit-learn==1.1.3) (1.2.0)\n",
      "Requirement already satisfied: threadpoolctl>=2.0.0 in c:\\users\\professional\\anaconda3\\lib\\site-packages (from scikit-learn==1.1.3) (2.2.0)\n",
      "Requirement already satisfied: numpy>=1.17.3 in c:\\users\\professional\\anaconda3\\lib\\site-packages (from scikit-learn==1.1.3) (1.21.5)\n"
     ]
    }
   ],
   "source": [
    "# загрузим версию 1.1.3 библиотеки scikit-learn\n",
    "# для последующей корректной работы с OneHotEncoder\n",
    "\n",
    "!pip install scikit-learn==1.1.3"
   ],
   "metadata": {
    "collapsed": false
   }
  },
  {
   "cell_type": "code",
   "execution_count": 2,
   "outputs": [
    {
     "name": "stdout",
     "output_type": "stream",
     "text": [
      "Requirement already satisfied: imblearn in c:\\users\\professional\\anaconda3\\lib\\site-packages (0.0)\n",
      "Requirement already satisfied: imbalanced-learn in c:\\users\\professional\\anaconda3\\lib\\site-packages (from imblearn) (0.10.1)\n",
      "Requirement already satisfied: scipy>=1.3.2 in c:\\users\\professional\\anaconda3\\lib\\site-packages (from imbalanced-learn->imblearn) (1.9.1)\n",
      "Requirement already satisfied: threadpoolctl>=2.0.0 in c:\\users\\professional\\anaconda3\\lib\\site-packages (from imbalanced-learn->imblearn) (2.2.0)\n",
      "Requirement already satisfied: joblib>=1.1.1 in c:\\users\\professional\\anaconda3\\lib\\site-packages (from imbalanced-learn->imblearn) (1.2.0)\n",
      "Requirement already satisfied: scikit-learn>=1.0.2 in c:\\users\\professional\\anaconda3\\lib\\site-packages (from imbalanced-learn->imblearn) (1.1.3)\n",
      "Requirement already satisfied: numpy>=1.17.3 in c:\\users\\professional\\anaconda3\\lib\\site-packages (from imbalanced-learn->imblearn) (1.21.5)\n"
     ]
    }
   ],
   "source": [
    "# Загрузим библиотеку imblearn для изменения размера выборок\n",
    "\n",
    "!pip install imblearn"
   ],
   "metadata": {
    "collapsed": false
   }
  },
  {
   "cell_type": "code",
   "execution_count": 3,
   "outputs": [],
   "source": [
    "# Импортируем нужные функции и библиотеки\n",
    "\n",
    "from collections import Counter\n",
    "\n",
    "import pandas as pd\n",
    "\n",
    "from sklearn.model_selection import train_test_split\n",
    "from sklearn.tree import DecisionTreeClassifier\n",
    "from sklearn.ensemble import RandomForestClassifier\n",
    "from sklearn.linear_model import LogisticRegression\n",
    "from sklearn.metrics import f1_score, roc_auc_score, recall_score\n",
    "from sklearn.preprocessing import StandardScaler, OneHotEncoder\n",
    "from sklearn.utils import shuffle\n",
    "from imblearn.over_sampling import SMOTE\n",
    "from imblearn.under_sampling import RandomUnderSampler\n",
    "from sklearn.dummy import DummyClassifier\n",
    "\n",
    "from tqdm import tqdm"
   ],
   "metadata": {
    "collapsed": false
   }
  },
  {
   "cell_type": "code",
   "execution_count": 4,
   "outputs": [],
   "source": [
    "# Сохраним в константу random_state\n",
    "\n",
    "RANDOM_STATE = 12345"
   ],
   "metadata": {
    "collapsed": false
   }
  },
  {
   "cell_type": "code",
   "execution_count": 5,
   "outputs": [],
   "source": [
    "# Вынесем в отдельную функцию вывод размера выборки и первых 5 строк\n",
    "\n",
    "def sample_info(data):\n",
    "    display(data.head())\n",
    "    display(data.shape)"
   ],
   "metadata": {
    "collapsed": false
   }
  },
  {
   "cell_type": "code",
   "execution_count": 6,
   "outputs": [],
   "source": [
    "# Далее по ходу проекта очень часто используется один и тот же код расчета метрик f1-меры и auc-roc,\n",
    "# f1-мера используется при подборе гиперпараметров модели, а вот расчет auc-roc можно вычислять отдельной функцией\n",
    "\n",
    "def calculation_of_aucroc(model, features, target):\n",
    "    probabilities_valid = model.predict_proba(features)\n",
    "    probabilities_one_valid = probabilities_valid[:, 1]\n",
    "    auc_roc = roc_auc_score(target, probabilities_one_valid)\n",
    "    return auc_roc"
   ],
   "metadata": {
    "collapsed": false
   }
  },
  {
   "cell_type": "code",
   "execution_count": 7,
   "outputs": [
    {
     "data": {
      "text/plain": "   RowNumber  CustomerId   Surname  CreditScore Geography  Gender  Age  \\\n0          1    15634602  Hargrave          619    France  Female   42   \n1          2    15647311      Hill          608     Spain  Female   41   \n2          3    15619304      Onio          502    France  Female   42   \n3          4    15701354      Boni          699    France  Female   39   \n4          5    15737888  Mitchell          850     Spain  Female   43   \n\n   Tenure    Balance  NumOfProducts  HasCrCard  IsActiveMember  \\\n0     2.0       0.00              1          1               1   \n1     1.0   83807.86              1          0               1   \n2     8.0  159660.80              3          1               0   \n3     1.0       0.00              2          0               0   \n4     2.0  125510.82              1          1               1   \n\n   EstimatedSalary  Exited  \n0        101348.88       1  \n1        112542.58       0  \n2        113931.57       1  \n3         93826.63       0  \n4         79084.10       0  ",
      "text/html": "<div>\n<style scoped>\n    .dataframe tbody tr th:only-of-type {\n        vertical-align: middle;\n    }\n\n    .dataframe tbody tr th {\n        vertical-align: top;\n    }\n\n    .dataframe thead th {\n        text-align: right;\n    }\n</style>\n<table border=\"1\" class=\"dataframe\">\n  <thead>\n    <tr style=\"text-align: right;\">\n      <th></th>\n      <th>RowNumber</th>\n      <th>CustomerId</th>\n      <th>Surname</th>\n      <th>CreditScore</th>\n      <th>Geography</th>\n      <th>Gender</th>\n      <th>Age</th>\n      <th>Tenure</th>\n      <th>Balance</th>\n      <th>NumOfProducts</th>\n      <th>HasCrCard</th>\n      <th>IsActiveMember</th>\n      <th>EstimatedSalary</th>\n      <th>Exited</th>\n    </tr>\n  </thead>\n  <tbody>\n    <tr>\n      <th>0</th>\n      <td>1</td>\n      <td>15634602</td>\n      <td>Hargrave</td>\n      <td>619</td>\n      <td>France</td>\n      <td>Female</td>\n      <td>42</td>\n      <td>2.0</td>\n      <td>0.00</td>\n      <td>1</td>\n      <td>1</td>\n      <td>1</td>\n      <td>101348.88</td>\n      <td>1</td>\n    </tr>\n    <tr>\n      <th>1</th>\n      <td>2</td>\n      <td>15647311</td>\n      <td>Hill</td>\n      <td>608</td>\n      <td>Spain</td>\n      <td>Female</td>\n      <td>41</td>\n      <td>1.0</td>\n      <td>83807.86</td>\n      <td>1</td>\n      <td>0</td>\n      <td>1</td>\n      <td>112542.58</td>\n      <td>0</td>\n    </tr>\n    <tr>\n      <th>2</th>\n      <td>3</td>\n      <td>15619304</td>\n      <td>Onio</td>\n      <td>502</td>\n      <td>France</td>\n      <td>Female</td>\n      <td>42</td>\n      <td>8.0</td>\n      <td>159660.80</td>\n      <td>3</td>\n      <td>1</td>\n      <td>0</td>\n      <td>113931.57</td>\n      <td>1</td>\n    </tr>\n    <tr>\n      <th>3</th>\n      <td>4</td>\n      <td>15701354</td>\n      <td>Boni</td>\n      <td>699</td>\n      <td>France</td>\n      <td>Female</td>\n      <td>39</td>\n      <td>1.0</td>\n      <td>0.00</td>\n      <td>2</td>\n      <td>0</td>\n      <td>0</td>\n      <td>93826.63</td>\n      <td>0</td>\n    </tr>\n    <tr>\n      <th>4</th>\n      <td>5</td>\n      <td>15737888</td>\n      <td>Mitchell</td>\n      <td>850</td>\n      <td>Spain</td>\n      <td>Female</td>\n      <td>43</td>\n      <td>2.0</td>\n      <td>125510.82</td>\n      <td>1</td>\n      <td>1</td>\n      <td>1</td>\n      <td>79084.10</td>\n      <td>0</td>\n    </tr>\n  </tbody>\n</table>\n</div>"
     },
     "metadata": {},
     "output_type": "display_data"
    },
    {
     "data": {
      "text/plain": "(10000, 14)"
     },
     "metadata": {},
     "output_type": "display_data"
    }
   ],
   "source": [
    "# Загружаем данные  из файла\n",
    "\n",
    "try:\n",
    "    data = pd.read_csv('Churn.csv')\n",
    "except:\n",
    "    data = pd.read_csv('/datasets/Churn.csv')\n",
    "\n",
    "sample_info(data)"
   ],
   "metadata": {
    "collapsed": false
   }
  },
  {
   "cell_type": "code",
   "execution_count": 8,
   "outputs": [
    {
     "data": {
      "text/plain": "2932"
     },
     "execution_count": 8,
     "metadata": {},
     "output_type": "execute_result"
    }
   ],
   "source": [
    "len(data['Surname'].unique())"
   ],
   "metadata": {
    "collapsed": false
   }
  },
  {
   "cell_type": "code",
   "execution_count": 9,
   "outputs": [
    {
     "data": {
      "text/plain": "3"
     },
     "execution_count": 9,
     "metadata": {},
     "output_type": "execute_result"
    }
   ],
   "source": [
    "len(data['Geography'].unique())"
   ],
   "metadata": {
    "collapsed": false
   }
  },
  {
   "cell_type": "code",
   "execution_count": 10,
   "outputs": [
    {
     "data": {
      "text/plain": "2"
     },
     "execution_count": 10,
     "metadata": {},
     "output_type": "execute_result"
    }
   ],
   "source": [
    "len(data['Gender'].unique())"
   ],
   "metadata": {
    "collapsed": false
   }
  },
  {
   "cell_type": "code",
   "execution_count": 11,
   "outputs": [
    {
     "data": {
      "text/plain": "RowNumber            0\nCustomerId           0\nSurname              0\nCreditScore          0\nGeography            0\nGender               0\nAge                  0\nTenure             909\nBalance              0\nNumOfProducts        0\nHasCrCard            0\nIsActiveMember       0\nEstimatedSalary      0\nExited               0\ndtype: int64"
     },
     "execution_count": 11,
     "metadata": {},
     "output_type": "execute_result"
    }
   ],
   "source": [
    "# Проверим пропуски в данных\n",
    "\n",
    "data.isna().sum()"
   ],
   "metadata": {
    "collapsed": false
   }
  },
  {
   "cell_type": "markdown",
   "source": [
    "**Выводы по данным**\n",
    "\n",
    "1. Изучив данные, мы видим, что у нас есть три столбца с категориальными признаками: Фамилия, страна проживания и пол. Страну проживания и пол вполне логично обработать техникой ***OHE***.\n",
    "2. Столбец с фамилией клиента лучше исключить из датафрейма, так как уникальных значений в столбце 2932. То есть к клиенту при необходимости доступ можно будет получить по его идентификатору, а при преобразовании техникой ***OHE*** у нас добавиться огромное количество бессмысленных столбцов.\n",
    "3. Столбец индексом строки в данных также можно исключить, поскольку он дублирует индексы датафрейма.\n",
    "4. Пропуски в столбце ~~заменим значением `-1`, что однозначно будет говорить о пропуске.~~ `Tenure` исключим из датафрейма."
   ],
   "metadata": {
    "collapsed": false
   }
  },
  {
   "cell_type": "code",
   "execution_count": 12,
   "outputs": [
    {
     "data": {
      "text/plain": "   CreditScore Geography  Gender  Age  Tenure    Balance  NumOfProducts  \\\n0          619    France  Female   42     2.0       0.00              1   \n1          608     Spain  Female   41     1.0   83807.86              1   \n2          502    France  Female   42     8.0  159660.80              3   \n3          699    France  Female   39     1.0       0.00              2   \n4          850     Spain  Female   43     2.0  125510.82              1   \n\n   HasCrCard  IsActiveMember  EstimatedSalary  Exited  \n0          1               1        101348.88       1  \n1          0               1        112542.58       0  \n2          1               0        113931.57       1  \n3          0               0         93826.63       0  \n4          1               1         79084.10       0  ",
      "text/html": "<div>\n<style scoped>\n    .dataframe tbody tr th:only-of-type {\n        vertical-align: middle;\n    }\n\n    .dataframe tbody tr th {\n        vertical-align: top;\n    }\n\n    .dataframe thead th {\n        text-align: right;\n    }\n</style>\n<table border=\"1\" class=\"dataframe\">\n  <thead>\n    <tr style=\"text-align: right;\">\n      <th></th>\n      <th>CreditScore</th>\n      <th>Geography</th>\n      <th>Gender</th>\n      <th>Age</th>\n      <th>Tenure</th>\n      <th>Balance</th>\n      <th>NumOfProducts</th>\n      <th>HasCrCard</th>\n      <th>IsActiveMember</th>\n      <th>EstimatedSalary</th>\n      <th>Exited</th>\n    </tr>\n  </thead>\n  <tbody>\n    <tr>\n      <th>0</th>\n      <td>619</td>\n      <td>France</td>\n      <td>Female</td>\n      <td>42</td>\n      <td>2.0</td>\n      <td>0.00</td>\n      <td>1</td>\n      <td>1</td>\n      <td>1</td>\n      <td>101348.88</td>\n      <td>1</td>\n    </tr>\n    <tr>\n      <th>1</th>\n      <td>608</td>\n      <td>Spain</td>\n      <td>Female</td>\n      <td>41</td>\n      <td>1.0</td>\n      <td>83807.86</td>\n      <td>1</td>\n      <td>0</td>\n      <td>1</td>\n      <td>112542.58</td>\n      <td>0</td>\n    </tr>\n    <tr>\n      <th>2</th>\n      <td>502</td>\n      <td>France</td>\n      <td>Female</td>\n      <td>42</td>\n      <td>8.0</td>\n      <td>159660.80</td>\n      <td>3</td>\n      <td>1</td>\n      <td>0</td>\n      <td>113931.57</td>\n      <td>1</td>\n    </tr>\n    <tr>\n      <th>3</th>\n      <td>699</td>\n      <td>France</td>\n      <td>Female</td>\n      <td>39</td>\n      <td>1.0</td>\n      <td>0.00</td>\n      <td>2</td>\n      <td>0</td>\n      <td>0</td>\n      <td>93826.63</td>\n      <td>0</td>\n    </tr>\n    <tr>\n      <th>4</th>\n      <td>850</td>\n      <td>Spain</td>\n      <td>Female</td>\n      <td>43</td>\n      <td>2.0</td>\n      <td>125510.82</td>\n      <td>1</td>\n      <td>1</td>\n      <td>1</td>\n      <td>79084.10</td>\n      <td>0</td>\n    </tr>\n  </tbody>\n</table>\n</div>"
     },
     "metadata": {},
     "output_type": "display_data"
    },
    {
     "data": {
      "text/plain": "(10000, 11)"
     },
     "metadata": {},
     "output_type": "display_data"
    }
   ],
   "source": [
    "# Ограничим данные, исключив столбцы с фамилией, номером строки и идентификатором клиента\n",
    "\n",
    "data_without_surname = data.drop(['Surname', 'RowNumber', 'CustomerId'], axis=1)\n",
    "sample_info(data_without_surname)"
   ],
   "metadata": {
    "collapsed": false
   }
  },
  {
   "cell_type": "code",
   "execution_count": 13,
   "outputs": [
    {
     "data": {
      "text/plain": "   CreditScore Geography  Gender  Age  Tenure    Balance  NumOfProducts  \\\n0          619    France  Female   42     2.0       0.00              1   \n1          608     Spain  Female   41     1.0   83807.86              1   \n2          502    France  Female   42     8.0  159660.80              3   \n3          699    France  Female   39     1.0       0.00              2   \n4          850     Spain  Female   43     2.0  125510.82              1   \n\n   HasCrCard  IsActiveMember  EstimatedSalary  Exited  \n0          1               1        101348.88       1  \n1          0               1        112542.58       0  \n2          1               0        113931.57       1  \n3          0               0         93826.63       0  \n4          1               1         79084.10       0  ",
      "text/html": "<div>\n<style scoped>\n    .dataframe tbody tr th:only-of-type {\n        vertical-align: middle;\n    }\n\n    .dataframe tbody tr th {\n        vertical-align: top;\n    }\n\n    .dataframe thead th {\n        text-align: right;\n    }\n</style>\n<table border=\"1\" class=\"dataframe\">\n  <thead>\n    <tr style=\"text-align: right;\">\n      <th></th>\n      <th>CreditScore</th>\n      <th>Geography</th>\n      <th>Gender</th>\n      <th>Age</th>\n      <th>Tenure</th>\n      <th>Balance</th>\n      <th>NumOfProducts</th>\n      <th>HasCrCard</th>\n      <th>IsActiveMember</th>\n      <th>EstimatedSalary</th>\n      <th>Exited</th>\n    </tr>\n  </thead>\n  <tbody>\n    <tr>\n      <th>0</th>\n      <td>619</td>\n      <td>France</td>\n      <td>Female</td>\n      <td>42</td>\n      <td>2.0</td>\n      <td>0.00</td>\n      <td>1</td>\n      <td>1</td>\n      <td>1</td>\n      <td>101348.88</td>\n      <td>1</td>\n    </tr>\n    <tr>\n      <th>1</th>\n      <td>608</td>\n      <td>Spain</td>\n      <td>Female</td>\n      <td>41</td>\n      <td>1.0</td>\n      <td>83807.86</td>\n      <td>1</td>\n      <td>0</td>\n      <td>1</td>\n      <td>112542.58</td>\n      <td>0</td>\n    </tr>\n    <tr>\n      <th>2</th>\n      <td>502</td>\n      <td>France</td>\n      <td>Female</td>\n      <td>42</td>\n      <td>8.0</td>\n      <td>159660.80</td>\n      <td>3</td>\n      <td>1</td>\n      <td>0</td>\n      <td>113931.57</td>\n      <td>1</td>\n    </tr>\n    <tr>\n      <th>3</th>\n      <td>699</td>\n      <td>France</td>\n      <td>Female</td>\n      <td>39</td>\n      <td>1.0</td>\n      <td>0.00</td>\n      <td>2</td>\n      <td>0</td>\n      <td>0</td>\n      <td>93826.63</td>\n      <td>0</td>\n    </tr>\n    <tr>\n      <th>4</th>\n      <td>850</td>\n      <td>Spain</td>\n      <td>Female</td>\n      <td>43</td>\n      <td>2.0</td>\n      <td>125510.82</td>\n      <td>1</td>\n      <td>1</td>\n      <td>1</td>\n      <td>79084.10</td>\n      <td>0</td>\n    </tr>\n  </tbody>\n</table>\n</div>"
     },
     "metadata": {},
     "output_type": "display_data"
    },
    {
     "data": {
      "text/plain": "(10000, 11)"
     },
     "metadata": {},
     "output_type": "display_data"
    }
   ],
   "source": [
    "# Удалим строки с пропусками в столбце Tenure\n",
    "\n",
    "# data_without_surname = data_without_surname.dropna(subset=['Tenure'])\n",
    "median = data_without_surname['Tenure'].median()\n",
    "data_without_surname['Tenure'] = data_without_surname['Tenure'].fillna(median)\n",
    "sample_info(data_without_surname)"
   ],
   "metadata": {
    "collapsed": false
   }
  },
  {
   "cell_type": "code",
   "execution_count": 14,
   "outputs": [
    {
     "name": "stdout",
     "output_type": "stream",
     "text": [
      "(2000, 10)\n",
      "(6000, 10)\n",
      "(2000, 10)\n"
     ]
    }
   ],
   "source": [
    "# Отделим целевой признак от признаков и разделим набор данных на выборки\n",
    "\n",
    "target = data_without_surname['Exited']\n",
    "features = data_without_surname.drop(['Exited'], axis=1)\n",
    "\n",
    "features, features_test, target, target_test = train_test_split(features,\n",
    "                                                                target, test_size=0.20,\n",
    "                                                                random_state=RANDOM_STATE)\n",
    "features_train, features_valid, target_train, target_valid = train_test_split(features, target,\n",
    "                                                                              test_size=0.25,\n",
    "                                                                              random_state=RANDOM_STATE)\n",
    "print(features_test.shape)\n",
    "print(features_train.shape)\n",
    "print(features_valid.shape)"
   ],
   "metadata": {
    "collapsed": false
   }
  },
  {
   "cell_type": "markdown",
   "source": [
    "Далее проведем преобразование категориальных признаков тренировочной выборки техникой **OneHotEncoding** и масштабирование методом стандартизации"
   ],
   "metadata": {
    "collapsed": false
   }
  },
  {
   "cell_type": "code",
   "execution_count": 15,
   "outputs": [
    {
     "data": {
      "text/plain": "['Geography', 'Gender']"
     },
     "execution_count": 15,
     "metadata": {},
     "output_type": "execute_result"
    }
   ],
   "source": [
    "# Выделим столбцы с категориальными признаками для преобразования\n",
    "\n",
    "ohe_columns = features_train.select_dtypes(include='object').columns.to_list()\n",
    "ohe_columns"
   ],
   "metadata": {
    "collapsed": false
   }
  },
  {
   "cell_type": "code",
   "execution_count": 16,
   "outputs": [
    {
     "data": {
      "text/plain": "['CreditScore',\n 'Age',\n 'Tenure',\n 'Balance',\n 'NumOfProducts',\n 'HasCrCard',\n 'IsActiveMember',\n 'EstimatedSalary']"
     },
     "execution_count": 16,
     "metadata": {},
     "output_type": "execute_result"
    }
   ],
   "source": [
    "# вынесем в переменную numeric названия столбцов с численными признаками, они нам понадобятся при масштабировании\n",
    "\n",
    "numeric = features_train.select_dtypes(exclude='object').columns.to_list()\n",
    "numeric"
   ],
   "metadata": {
    "collapsed": false
   }
  },
  {
   "cell_type": "code",
   "execution_count": 17,
   "outputs": [
    {
     "data": {
      "text/plain": "      CreditScore  Age  Tenure    Balance  NumOfProducts  HasCrCard  \\\n492           639   38     4.0   81550.94              2          0   \n6655          554   44     5.0   85304.27              1          1   \n4287          714   53     1.0   99141.86              1          1   \n42            556   61     2.0  117419.35              1          1   \n8178          707   46     7.0  127476.73              2          1   \n\n      IsActiveMember  EstimatedSalary  Geography_Germany  Geography_Spain  \\\n492                1        118974.77                0.0              0.0   \n6655               1         58076.52                0.0              0.0   \n4287               1         72496.05                1.0              0.0   \n42                 1         94153.83                0.0              0.0   \n8178               1        146011.55                0.0              0.0   \n\n      Gender_Male  \n492           0.0  \n6655          1.0  \n4287          1.0  \n42            0.0  \n8178          0.0  ",
      "text/html": "<div>\n<style scoped>\n    .dataframe tbody tr th:only-of-type {\n        vertical-align: middle;\n    }\n\n    .dataframe tbody tr th {\n        vertical-align: top;\n    }\n\n    .dataframe thead th {\n        text-align: right;\n    }\n</style>\n<table border=\"1\" class=\"dataframe\">\n  <thead>\n    <tr style=\"text-align: right;\">\n      <th></th>\n      <th>CreditScore</th>\n      <th>Age</th>\n      <th>Tenure</th>\n      <th>Balance</th>\n      <th>NumOfProducts</th>\n      <th>HasCrCard</th>\n      <th>IsActiveMember</th>\n      <th>EstimatedSalary</th>\n      <th>Geography_Germany</th>\n      <th>Geography_Spain</th>\n      <th>Gender_Male</th>\n    </tr>\n  </thead>\n  <tbody>\n    <tr>\n      <th>492</th>\n      <td>639</td>\n      <td>38</td>\n      <td>4.0</td>\n      <td>81550.94</td>\n      <td>2</td>\n      <td>0</td>\n      <td>1</td>\n      <td>118974.77</td>\n      <td>0.0</td>\n      <td>0.0</td>\n      <td>0.0</td>\n    </tr>\n    <tr>\n      <th>6655</th>\n      <td>554</td>\n      <td>44</td>\n      <td>5.0</td>\n      <td>85304.27</td>\n      <td>1</td>\n      <td>1</td>\n      <td>1</td>\n      <td>58076.52</td>\n      <td>0.0</td>\n      <td>0.0</td>\n      <td>1.0</td>\n    </tr>\n    <tr>\n      <th>4287</th>\n      <td>714</td>\n      <td>53</td>\n      <td>1.0</td>\n      <td>99141.86</td>\n      <td>1</td>\n      <td>1</td>\n      <td>1</td>\n      <td>72496.05</td>\n      <td>1.0</td>\n      <td>0.0</td>\n      <td>1.0</td>\n    </tr>\n    <tr>\n      <th>42</th>\n      <td>556</td>\n      <td>61</td>\n      <td>2.0</td>\n      <td>117419.35</td>\n      <td>1</td>\n      <td>1</td>\n      <td>1</td>\n      <td>94153.83</td>\n      <td>0.0</td>\n      <td>0.0</td>\n      <td>0.0</td>\n    </tr>\n    <tr>\n      <th>8178</th>\n      <td>707</td>\n      <td>46</td>\n      <td>7.0</td>\n      <td>127476.73</td>\n      <td>2</td>\n      <td>1</td>\n      <td>1</td>\n      <td>146011.55</td>\n      <td>0.0</td>\n      <td>0.0</td>\n      <td>0.0</td>\n    </tr>\n  </tbody>\n</table>\n</div>"
     },
     "metadata": {},
     "output_type": "display_data"
    },
    {
     "data": {
      "text/plain": "(6000, 11)"
     },
     "metadata": {},
     "output_type": "display_data"
    }
   ],
   "source": [
    "# Создадим экземпляр класса OneHotEncoder\n",
    "\n",
    "encoder_ohe = OneHotEncoder(drop='first', handle_unknown='ignore', sparse=False)\n",
    "\n",
    "# Обучим энкодер на заданных категориальных признаках\n",
    "\n",
    "encoder_ohe.fit(features_train[ohe_columns])\n",
    "\n",
    "# Добавим закодированные признаки в тренировочную выборку\n",
    "\n",
    "features_train[\n",
    "    encoder_ohe.get_feature_names_out()\n",
    "] = encoder_ohe.transform(features_train[ohe_columns])\n",
    "\n",
    "# Удалим из выборки незакодированные столбцы\n",
    "\n",
    "features_train = features_train.drop(ohe_columns, axis=1)\n",
    "sample_info(features_train)"
   ],
   "metadata": {
    "collapsed": false
   }
  },
  {
   "cell_type": "code",
   "execution_count": 18,
   "outputs": [
    {
     "data": {
      "text/plain": "      CreditScore       Age    Tenure   Balance  NumOfProducts  HasCrCard  \\\n492     -0.134048 -0.078068 -0.369113  0.076163       0.816929  -1.550255   \n6655    -1.010798  0.494555 -0.007415  0.136391      -0.896909   0.645055   \n4287     0.639554  1.353490 -1.454209  0.358435      -0.896909   0.645055   \n42      -0.990168  2.116987 -1.092511  0.651725      -0.896909   0.645055   \n8178     0.567351  0.685430  0.715982  0.813110       0.816929   0.645055   \n\n      IsActiveMember  EstimatedSalary  Geography_Germany  Geography_Spain  \\\n492         0.968496         0.331571                0.0              0.0   \n6655        0.968496        -0.727858                0.0              0.0   \n4287        0.968496        -0.477006                1.0              0.0   \n42          0.968496        -0.100232                0.0              0.0   \n8178        0.968496         0.801922                0.0              0.0   \n\n      Gender_Male  \n492           0.0  \n6655          1.0  \n4287          1.0  \n42            0.0  \n8178          0.0  ",
      "text/html": "<div>\n<style scoped>\n    .dataframe tbody tr th:only-of-type {\n        vertical-align: middle;\n    }\n\n    .dataframe tbody tr th {\n        vertical-align: top;\n    }\n\n    .dataframe thead th {\n        text-align: right;\n    }\n</style>\n<table border=\"1\" class=\"dataframe\">\n  <thead>\n    <tr style=\"text-align: right;\">\n      <th></th>\n      <th>CreditScore</th>\n      <th>Age</th>\n      <th>Tenure</th>\n      <th>Balance</th>\n      <th>NumOfProducts</th>\n      <th>HasCrCard</th>\n      <th>IsActiveMember</th>\n      <th>EstimatedSalary</th>\n      <th>Geography_Germany</th>\n      <th>Geography_Spain</th>\n      <th>Gender_Male</th>\n    </tr>\n  </thead>\n  <tbody>\n    <tr>\n      <th>492</th>\n      <td>-0.134048</td>\n      <td>-0.078068</td>\n      <td>-0.369113</td>\n      <td>0.076163</td>\n      <td>0.816929</td>\n      <td>-1.550255</td>\n      <td>0.968496</td>\n      <td>0.331571</td>\n      <td>0.0</td>\n      <td>0.0</td>\n      <td>0.0</td>\n    </tr>\n    <tr>\n      <th>6655</th>\n      <td>-1.010798</td>\n      <td>0.494555</td>\n      <td>-0.007415</td>\n      <td>0.136391</td>\n      <td>-0.896909</td>\n      <td>0.645055</td>\n      <td>0.968496</td>\n      <td>-0.727858</td>\n      <td>0.0</td>\n      <td>0.0</td>\n      <td>1.0</td>\n    </tr>\n    <tr>\n      <th>4287</th>\n      <td>0.639554</td>\n      <td>1.353490</td>\n      <td>-1.454209</td>\n      <td>0.358435</td>\n      <td>-0.896909</td>\n      <td>0.645055</td>\n      <td>0.968496</td>\n      <td>-0.477006</td>\n      <td>1.0</td>\n      <td>0.0</td>\n      <td>1.0</td>\n    </tr>\n    <tr>\n      <th>42</th>\n      <td>-0.990168</td>\n      <td>2.116987</td>\n      <td>-1.092511</td>\n      <td>0.651725</td>\n      <td>-0.896909</td>\n      <td>0.645055</td>\n      <td>0.968496</td>\n      <td>-0.100232</td>\n      <td>0.0</td>\n      <td>0.0</td>\n      <td>0.0</td>\n    </tr>\n    <tr>\n      <th>8178</th>\n      <td>0.567351</td>\n      <td>0.685430</td>\n      <td>0.715982</td>\n      <td>0.813110</td>\n      <td>0.816929</td>\n      <td>0.645055</td>\n      <td>0.968496</td>\n      <td>0.801922</td>\n      <td>0.0</td>\n      <td>0.0</td>\n      <td>0.0</td>\n    </tr>\n  </tbody>\n</table>\n</div>"
     },
     "metadata": {},
     "output_type": "display_data"
    },
    {
     "data": {
      "text/plain": "(6000, 11)"
     },
     "metadata": {},
     "output_type": "display_data"
    }
   ],
   "source": [
    "# Теперь проведем масштабирование\n",
    "# Создадим экземпляр класса StandardScaler\n",
    "\n",
    "scaler = StandardScaler()\n",
    "\n",
    "# Обучим его на тренировочных данных и трансформируем их\n",
    "\n",
    "features_train[numeric] = scaler.fit_transform(features_train[numeric])\n",
    "\n",
    "sample_info(features_train)"
   ],
   "metadata": {
    "collapsed": false
   }
  },
  {
   "cell_type": "markdown",
   "source": [
    "Мы видим, что теперь в нашей таблице представлены только численные столбцы и можно работать с данными дальше, но перед этим мы масштабируем численные значения в столбцах методом стандартизации."
   ],
   "metadata": {
    "collapsed": false
   }
  },
  {
   "cell_type": "code",
   "execution_count": 19,
   "outputs": [
    {
     "data": {
      "text/plain": "      CreditScore       Age    Tenure   Balance  NumOfProducts  HasCrCard  \\\n2358     0.175393  0.399118 -1.454209  1.385698      -0.896909  -1.550255   \n8463    -1.299609  0.971741 -1.092511 -1.232442      -0.896909   0.645055   \n163      0.711757 -0.268942 -1.092511 -1.232442       0.816929   0.645055   \n3074    -0.391916  0.494555  0.354284  0.672529      -0.896909   0.645055   \n5989     0.165078  1.353490  1.801078  0.536522      -0.896909  -1.550255   \n\n      IsActiveMember  EstimatedSalary  Geography_Germany  Geography_Spain  \\\n2358        0.968496        -1.466761                0.0              0.0   \n8463       -1.032529         0.254415                0.0              1.0   \n163         0.968496         0.122863                0.0              1.0   \n3074       -1.032529         0.585847                1.0              0.0   \n5989       -1.032529         1.462457                0.0              0.0   \n\n      Gender_Male  \n2358          1.0  \n8463          1.0  \n163           0.0  \n3074          0.0  \n5989          0.0  ",
      "text/html": "<div>\n<style scoped>\n    .dataframe tbody tr th:only-of-type {\n        vertical-align: middle;\n    }\n\n    .dataframe tbody tr th {\n        vertical-align: top;\n    }\n\n    .dataframe thead th {\n        text-align: right;\n    }\n</style>\n<table border=\"1\" class=\"dataframe\">\n  <thead>\n    <tr style=\"text-align: right;\">\n      <th></th>\n      <th>CreditScore</th>\n      <th>Age</th>\n      <th>Tenure</th>\n      <th>Balance</th>\n      <th>NumOfProducts</th>\n      <th>HasCrCard</th>\n      <th>IsActiveMember</th>\n      <th>EstimatedSalary</th>\n      <th>Geography_Germany</th>\n      <th>Geography_Spain</th>\n      <th>Gender_Male</th>\n    </tr>\n  </thead>\n  <tbody>\n    <tr>\n      <th>2358</th>\n      <td>0.175393</td>\n      <td>0.399118</td>\n      <td>-1.454209</td>\n      <td>1.385698</td>\n      <td>-0.896909</td>\n      <td>-1.550255</td>\n      <td>0.968496</td>\n      <td>-1.466761</td>\n      <td>0.0</td>\n      <td>0.0</td>\n      <td>1.0</td>\n    </tr>\n    <tr>\n      <th>8463</th>\n      <td>-1.299609</td>\n      <td>0.971741</td>\n      <td>-1.092511</td>\n      <td>-1.232442</td>\n      <td>-0.896909</td>\n      <td>0.645055</td>\n      <td>-1.032529</td>\n      <td>0.254415</td>\n      <td>0.0</td>\n      <td>1.0</td>\n      <td>1.0</td>\n    </tr>\n    <tr>\n      <th>163</th>\n      <td>0.711757</td>\n      <td>-0.268942</td>\n      <td>-1.092511</td>\n      <td>-1.232442</td>\n      <td>0.816929</td>\n      <td>0.645055</td>\n      <td>0.968496</td>\n      <td>0.122863</td>\n      <td>0.0</td>\n      <td>1.0</td>\n      <td>0.0</td>\n    </tr>\n    <tr>\n      <th>3074</th>\n      <td>-0.391916</td>\n      <td>0.494555</td>\n      <td>0.354284</td>\n      <td>0.672529</td>\n      <td>-0.896909</td>\n      <td>0.645055</td>\n      <td>-1.032529</td>\n      <td>0.585847</td>\n      <td>1.0</td>\n      <td>0.0</td>\n      <td>0.0</td>\n    </tr>\n    <tr>\n      <th>5989</th>\n      <td>0.165078</td>\n      <td>1.353490</td>\n      <td>1.801078</td>\n      <td>0.536522</td>\n      <td>-0.896909</td>\n      <td>-1.550255</td>\n      <td>-1.032529</td>\n      <td>1.462457</td>\n      <td>0.0</td>\n      <td>0.0</td>\n      <td>0.0</td>\n    </tr>\n  </tbody>\n</table>\n</div>"
     },
     "metadata": {},
     "output_type": "display_data"
    },
    {
     "data": {
      "text/plain": "(2000, 11)"
     },
     "metadata": {},
     "output_type": "display_data"
    }
   ],
   "source": [
    "# теперь можно провести кодирование и масштабирование валидационной выборки\n",
    "\n",
    "features_valid[\n",
    "    encoder_ohe.get_feature_names_out()\n",
    "] = encoder_ohe.transform(features_valid[ohe_columns])\n",
    "features_valid = features_valid.drop(ohe_columns, axis=1)\n",
    "\n",
    "features_valid[numeric] = scaler.transform(features_valid[numeric])\n",
    "\n",
    "# Посмотрим, что получилось\n",
    "\n",
    "sample_info(features_valid)"
   ],
   "metadata": {
    "collapsed": false
   }
  },
  {
   "cell_type": "code",
   "execution_count": 20,
   "outputs": [
    {
     "data": {
      "text/plain": "      CreditScore       Age    Tenure   Balance  NumOfProducts  HasCrCard  \\\n7867    -0.123733  0.685430 -0.730812 -1.232442      -0.896909   0.645055   \n1402     1.083087 -0.937002  1.077681  0.858518      -0.896909   0.645055   \n8606     1.598822  0.303681 -0.007415 -1.232442       0.816929   0.645055   \n8885     0.165078  0.589993 -0.369113  0.412100       0.816929   0.645055   \n6494     0.484834 -1.032439  0.715982 -1.232442       0.816929   0.645055   \n\n      IsActiveMember  EstimatedSalary  Geography_Germany  Geography_Spain  \\\n7867        0.968496         0.980212                0.0              1.0   \n1402       -1.032529        -0.390486                0.0              0.0   \n8606        0.968496        -0.435169                0.0              1.0   \n8885        0.968496         1.017079                0.0              1.0   \n6494        0.968496        -1.343558                0.0              0.0   \n\n      Gender_Male  \n7867          0.0  \n1402          1.0  \n8606          1.0  \n8885          1.0  \n6494          1.0  ",
      "text/html": "<div>\n<style scoped>\n    .dataframe tbody tr th:only-of-type {\n        vertical-align: middle;\n    }\n\n    .dataframe tbody tr th {\n        vertical-align: top;\n    }\n\n    .dataframe thead th {\n        text-align: right;\n    }\n</style>\n<table border=\"1\" class=\"dataframe\">\n  <thead>\n    <tr style=\"text-align: right;\">\n      <th></th>\n      <th>CreditScore</th>\n      <th>Age</th>\n      <th>Tenure</th>\n      <th>Balance</th>\n      <th>NumOfProducts</th>\n      <th>HasCrCard</th>\n      <th>IsActiveMember</th>\n      <th>EstimatedSalary</th>\n      <th>Geography_Germany</th>\n      <th>Geography_Spain</th>\n      <th>Gender_Male</th>\n    </tr>\n  </thead>\n  <tbody>\n    <tr>\n      <th>7867</th>\n      <td>-0.123733</td>\n      <td>0.685430</td>\n      <td>-0.730812</td>\n      <td>-1.232442</td>\n      <td>-0.896909</td>\n      <td>0.645055</td>\n      <td>0.968496</td>\n      <td>0.980212</td>\n      <td>0.0</td>\n      <td>1.0</td>\n      <td>0.0</td>\n    </tr>\n    <tr>\n      <th>1402</th>\n      <td>1.083087</td>\n      <td>-0.937002</td>\n      <td>1.077681</td>\n      <td>0.858518</td>\n      <td>-0.896909</td>\n      <td>0.645055</td>\n      <td>-1.032529</td>\n      <td>-0.390486</td>\n      <td>0.0</td>\n      <td>0.0</td>\n      <td>1.0</td>\n    </tr>\n    <tr>\n      <th>8606</th>\n      <td>1.598822</td>\n      <td>0.303681</td>\n      <td>-0.007415</td>\n      <td>-1.232442</td>\n      <td>0.816929</td>\n      <td>0.645055</td>\n      <td>0.968496</td>\n      <td>-0.435169</td>\n      <td>0.0</td>\n      <td>1.0</td>\n      <td>1.0</td>\n    </tr>\n    <tr>\n      <th>8885</th>\n      <td>0.165078</td>\n      <td>0.589993</td>\n      <td>-0.369113</td>\n      <td>0.412100</td>\n      <td>0.816929</td>\n      <td>0.645055</td>\n      <td>0.968496</td>\n      <td>1.017079</td>\n      <td>0.0</td>\n      <td>1.0</td>\n      <td>1.0</td>\n    </tr>\n    <tr>\n      <th>6494</th>\n      <td>0.484834</td>\n      <td>-1.032439</td>\n      <td>0.715982</td>\n      <td>-1.232442</td>\n      <td>0.816929</td>\n      <td>0.645055</td>\n      <td>0.968496</td>\n      <td>-1.343558</td>\n      <td>0.0</td>\n      <td>0.0</td>\n      <td>1.0</td>\n    </tr>\n  </tbody>\n</table>\n</div>"
     },
     "metadata": {},
     "output_type": "display_data"
    },
    {
     "data": {
      "text/plain": "(2000, 11)"
     },
     "metadata": {},
     "output_type": "display_data"
    }
   ],
   "source": [
    "# И всё то же самое с тестовой выборкой\n",
    "\n",
    "features_test[\n",
    "    encoder_ohe.get_feature_names_out()\n",
    "] = encoder_ohe.transform(features_test[ohe_columns])\n",
    "features_test = features_test.drop(ohe_columns, axis=1)\n",
    "\n",
    "features_test[numeric] = scaler.transform(features_test[numeric])\n",
    "\n",
    "# Посмотрим, что получилось\n",
    "\n",
    "sample_info(features_test)"
   ],
   "metadata": {
    "collapsed": false
   }
  },
  {
   "cell_type": "markdown",
   "source": [
    "<div class='alert alert-info'>\n",
    "<b>Корректировка студента</b><br><br>\n",
    "В ходе подготовки данных к дальнейшей работе с моделями <b><i>обнаружилось:</i></b>\n",
    "<ol>\n",
    "<li>В таблице было три столбца, которые явно не несли какой-либо ценной информации для обучения моделей (номер строки, фамилия клиента, идентификатор клиента).</li>\n",
    "<li>В таблице 3 столбца с категориальными признаками, которые не подходят для обучения моделей.</li>\n",
    "<li>В столбце с количеством лет было 909 строк с пропусками.</li>\n",
    "</ol>\n",
    "<br><br>\n",
    "В связи с чем были <b><i>проведены</i></b> следующие манипуляции:\n",
    "<ol>\n",
    "<li>Три лишних столбца были полностью исключены из датафрейма.</li>\n",
    "<li>Строки с пропусками были исключены из датафрейма по той причине, что любая замена, пусть немного, но исказит информацию.</li>\n",
    "<li>Оставшиеся два столбца с категориальными признаками были преобразованы техникой OHE (сначала на тренировочных данных, затем - на валидационных и тестовых).</li>\n",
    "<li>Все данные в численных столбцах промасштабированы (также, сначала на тренировочной выборке, потом - на валидационной и тестовой).</li>\n",
    "</ol>\n",
    "</div>"
   ],
   "metadata": {
    "collapsed": false
   }
  },
  {
   "cell_type": "markdown",
   "source": [
    "## Исследование задачи"
   ],
   "metadata": {
    "collapsed": false
   }
  },
  {
   "cell_type": "markdown",
   "source": [
    "Для начала \"взвесим\" классы."
   ],
   "metadata": {
    "collapsed": false
   }
  },
  {
   "cell_type": "code",
   "execution_count": 21,
   "outputs": [
    {
     "data": {
      "text/plain": "'Counter({0: 4781, 1: 1219})'"
     },
     "execution_count": 21,
     "metadata": {},
     "output_type": "execute_result"
    }
   ],
   "source": [
    "f'{Counter(target_train)}'"
   ],
   "metadata": {
    "collapsed": false
   }
  },
  {
   "cell_type": "markdown",
   "source": [
    "Мы видим, что класс \"0\" встречается почти в 4 раза чаще, чем класс \"1\". У нас в данных наблюдается дисбаланс.\n",
    "Попробуем обучить модель без учета баланса классов и посмотрим, что из этого получится."
   ],
   "metadata": {
    "collapsed": false
   }
  },
  {
   "cell_type": "code",
   "execution_count": 22,
   "outputs": [
    {
     "data": {
      "text/plain": "'f1: 0.30131826741996237, auc-roc: 0.7703010082353259'"
     },
     "execution_count": 22,
     "metadata": {},
     "output_type": "execute_result"
    }
   ],
   "source": [
    "# Обучим модель логистической регрессии и посмотрим, что нам покажут метрики\n",
    "\n",
    "model = LogisticRegression(random_state=RANDOM_STATE, solver='liblinear')\n",
    "model.fit(features_train, target_train)\n",
    "predicted_valid = model.predict(features_valid)\n",
    "f1_disbalance = f1_score(target_valid, predicted_valid)\n",
    "\n",
    "f'f1: {f1_disbalance}, auc-roc: {calculation_of_aucroc(model, features_valid, target_valid)}'"
   ],
   "metadata": {
    "collapsed": false
   }
  },
  {
   "cell_type": "markdown",
   "source": [
    "Теперь поработаем с моделью \"Дерево решений\" на несбалансированных данных.\n",
    "\n",
    "Результаты будем сразу сравнивать с результатами обученной логистической регрессии, если модель ни при какой глубине не покажет лучших метрик, то мы не станем ее даже рассматривать."
   ],
   "metadata": {
    "collapsed": false
   }
  },
  {
   "cell_type": "code",
   "execution_count": 23,
   "outputs": [
    {
     "data": {
      "text/plain": "'f1: 0.5583596214511041, auc-roc: 0.8231010349393358, depth: 7'"
     },
     "execution_count": 23,
     "metadata": {},
     "output_type": "execute_result"
    }
   ],
   "source": [
    "# Подберем наилучшие гиперпараметры\n",
    "\n",
    "best_depth = 0\n",
    "best_f1 = f1_disbalance\n",
    "best_model = model\n",
    "for depth in range(1, 20):\n",
    "    model_tree = DecisionTreeClassifier(random_state=RANDOM_STATE, max_depth=depth)\n",
    "    model_tree.fit(features_train, target_train)\n",
    "    predicted_valid = model_tree.predict(features_valid)\n",
    "    f1_tree = f1_score(target_valid, predicted_valid)\n",
    "    if f1_tree > best_f1:\n",
    "        best_depth = depth\n",
    "        best_f1 = f1_tree\n",
    "        best_model = model_tree\n",
    "\n",
    "f'f1: {best_f1}, auc-roc: {calculation_of_aucroc(best_model, features_valid, target_valid)}, depth: {best_depth}'"
   ],
   "metadata": {
    "collapsed": false
   }
  },
  {
   "cell_type": "markdown",
   "source": [
    "Итак, при глубине 9, модель **решающего дерева** показала неплохие результаты даже на несбалансированных данных.\n",
    "\n",
    "Теперь поработаем с моделью **случайного леса** и будем сразу сравнивать результаты с полученными на предыдущем этапе."
   ],
   "metadata": {
    "collapsed": false
   }
  },
  {
   "cell_type": "code",
   "execution_count": 24,
   "outputs": [
    {
     "data": {
      "text/plain": "'f1: 0.5805422647527911, auc-roc: 0.8379050704238784, depth: 14, est: 40'"
     },
     "execution_count": 24,
     "metadata": {},
     "output_type": "execute_result"
    }
   ],
   "source": [
    "best_depth = 0\n",
    "best_est = 0\n",
    "best_f1 = best_f1\n",
    "best_model = best_model\n",
    "\n",
    "for depth in range(1, 20):\n",
    "    for est in range(10, 170, 10):\n",
    "        model = RandomForestClassifier(random_state=RANDOM_STATE, max_depth=depth, n_estimators=est)\n",
    "        model.fit(features_train, target_train)\n",
    "        predicted_valid = model.predict(features_valid)\n",
    "        f1 = f1_score(target_valid, predicted_valid)\n",
    "        if f1 > best_f1:\n",
    "            best_depth = depth\n",
    "            best_est = est\n",
    "            best_f1 = f1\n",
    "            best_model = model\n",
    "\n",
    "f'f1: {best_f1}, auc-roc: {calculation_of_aucroc(best_model, features_valid, target_valid)}, depth: {best_depth}, est: {best_est}'"
   ],
   "metadata": {
    "collapsed": false
   }
  },
  {
   "cell_type": "code",
   "execution_count": 25,
   "outputs": [
    {
     "name": "stdout",
     "output_type": "stream",
     "text": [
      "Wall time: 212 ms\n"
     ]
    },
    {
     "data": {
      "text/plain": "RandomForestClassifier(max_depth=14, n_estimators=40, random_state=12345)",
      "text/html": "<style>#sk-container-id-1 {color: black;background-color: white;}#sk-container-id-1 pre{padding: 0;}#sk-container-id-1 div.sk-toggleable {background-color: white;}#sk-container-id-1 label.sk-toggleable__label {cursor: pointer;display: block;width: 100%;margin-bottom: 0;padding: 0.3em;box-sizing: border-box;text-align: center;}#sk-container-id-1 label.sk-toggleable__label-arrow:before {content: \"▸\";float: left;margin-right: 0.25em;color: #696969;}#sk-container-id-1 label.sk-toggleable__label-arrow:hover:before {color: black;}#sk-container-id-1 div.sk-estimator:hover label.sk-toggleable__label-arrow:before {color: black;}#sk-container-id-1 div.sk-toggleable__content {max-height: 0;max-width: 0;overflow: hidden;text-align: left;background-color: #f0f8ff;}#sk-container-id-1 div.sk-toggleable__content pre {margin: 0.2em;color: black;border-radius: 0.25em;background-color: #f0f8ff;}#sk-container-id-1 input.sk-toggleable__control:checked~div.sk-toggleable__content {max-height: 200px;max-width: 100%;overflow: auto;}#sk-container-id-1 input.sk-toggleable__control:checked~label.sk-toggleable__label-arrow:before {content: \"▾\";}#sk-container-id-1 div.sk-estimator input.sk-toggleable__control:checked~label.sk-toggleable__label {background-color: #d4ebff;}#sk-container-id-1 div.sk-label input.sk-toggleable__control:checked~label.sk-toggleable__label {background-color: #d4ebff;}#sk-container-id-1 input.sk-hidden--visually {border: 0;clip: rect(1px 1px 1px 1px);clip: rect(1px, 1px, 1px, 1px);height: 1px;margin: -1px;overflow: hidden;padding: 0;position: absolute;width: 1px;}#sk-container-id-1 div.sk-estimator {font-family: monospace;background-color: #f0f8ff;border: 1px dotted black;border-radius: 0.25em;box-sizing: border-box;margin-bottom: 0.5em;}#sk-container-id-1 div.sk-estimator:hover {background-color: #d4ebff;}#sk-container-id-1 div.sk-parallel-item::after {content: \"\";width: 100%;border-bottom: 1px solid gray;flex-grow: 1;}#sk-container-id-1 div.sk-label:hover label.sk-toggleable__label {background-color: #d4ebff;}#sk-container-id-1 div.sk-serial::before {content: \"\";position: absolute;border-left: 1px solid gray;box-sizing: border-box;top: 0;bottom: 0;left: 50%;z-index: 0;}#sk-container-id-1 div.sk-serial {display: flex;flex-direction: column;align-items: center;background-color: white;padding-right: 0.2em;padding-left: 0.2em;position: relative;}#sk-container-id-1 div.sk-item {position: relative;z-index: 1;}#sk-container-id-1 div.sk-parallel {display: flex;align-items: stretch;justify-content: center;background-color: white;position: relative;}#sk-container-id-1 div.sk-item::before, #sk-container-id-1 div.sk-parallel-item::before {content: \"\";position: absolute;border-left: 1px solid gray;box-sizing: border-box;top: 0;bottom: 0;left: 50%;z-index: -1;}#sk-container-id-1 div.sk-parallel-item {display: flex;flex-direction: column;z-index: 1;position: relative;background-color: white;}#sk-container-id-1 div.sk-parallel-item:first-child::after {align-self: flex-end;width: 50%;}#sk-container-id-1 div.sk-parallel-item:last-child::after {align-self: flex-start;width: 50%;}#sk-container-id-1 div.sk-parallel-item:only-child::after {width: 0;}#sk-container-id-1 div.sk-dashed-wrapped {border: 1px dashed gray;margin: 0 0.4em 0.5em 0.4em;box-sizing: border-box;padding-bottom: 0.4em;background-color: white;}#sk-container-id-1 div.sk-label label {font-family: monospace;font-weight: bold;display: inline-block;line-height: 1.2em;}#sk-container-id-1 div.sk-label-container {text-align: center;}#sk-container-id-1 div.sk-container {/* jupyter's `normalize.less` sets `[hidden] { display: none; }` but bootstrap.min.css set `[hidden] { display: none !important; }` so we also need the `!important` here to be able to override the default hidden behavior on the sphinx rendered scikit-learn.org. See: https://github.com/scikit-learn/scikit-learn/issues/21755 */display: inline-block !important;position: relative;}#sk-container-id-1 div.sk-text-repr-fallback {display: none;}</style><div id=\"sk-container-id-1\" class=\"sk-top-container\"><div class=\"sk-text-repr-fallback\"><pre>RandomForestClassifier(max_depth=14, n_estimators=40, random_state=12345)</pre><b>In a Jupyter environment, please rerun this cell to show the HTML representation or trust the notebook. <br />On GitHub, the HTML representation is unable to render, please try loading this page with nbviewer.org.</b></div><div class=\"sk-container\" hidden><div class=\"sk-item\"><div class=\"sk-estimator sk-toggleable\"><input class=\"sk-toggleable__control sk-hidden--visually\" id=\"sk-estimator-id-1\" type=\"checkbox\" checked><label for=\"sk-estimator-id-1\" class=\"sk-toggleable__label sk-toggleable__label-arrow\">RandomForestClassifier</label><div class=\"sk-toggleable__content\"><pre>RandomForestClassifier(max_depth=14, n_estimators=40, random_state=12345)</pre></div></div></div></div></div>"
     },
     "execution_count": 25,
     "metadata": {},
     "output_type": "execute_result"
    }
   ],
   "source": [
    "%%time\n",
    "# RandomForestClassifier дал лучшие метрики качества на несбалансированных данных,\n",
    "# проверим сколько времени модель будет обучаться с полученными гиперпараметрами\n",
    "\n",
    "best_model.fit(features_train, target_train)"
   ],
   "metadata": {
    "collapsed": false
   }
  },
  {
   "cell_type": "markdown",
   "source": [
    "~~Метрика **AUC-ROC** показывает неплохие результаты, а вот **F1-меру** хотелось бы получше.~~\n",
    "\n",
    "На несбалансированных данных лучшие результаты показала модель **RandomForestClassifier** с гиперпараметрами **max_depth=17, n_estimators=150**.\n",
    "\n",
    "**F1-мера** данной модели практически 0,57, **AUC-ROC** - 0,84, время обучения модели при этом - менее одной секунды.\n",
    "\n",
    "Следующим этапом будем работать над борьбой с дисбалансом в данных. Будем улучшать метрики качества модели. По ходу борьбы метрики качества будем сравнивать с метриками модели **случайный лес**, полученными на данном этапе, так как данная модель в настоящий момент является лучшей."
   ],
   "metadata": {
    "collapsed": false
   }
  },
  {
   "cell_type": "markdown",
   "source": [
    "## Борьба с дисбалансом"
   ],
   "metadata": {
    "collapsed": false
   }
  },
  {
   "cell_type": "markdown",
   "source": [
    "Для борьбы с дисбалансом классов испытаем три метода: **взвешенные классы, upsampling, downsampling**. Для последних двух методов сразу заготовим выборки."
   ],
   "metadata": {
    "collapsed": false
   }
  },
  {
   "cell_type": "code",
   "execution_count": 26,
   "outputs": [
    {
     "data": {
      "text/plain": "   CreditScore       Age    Tenure   Balance  NumOfProducts  HasCrCard  \\\n0    -0.134048 -0.078068 -0.369113  0.076163       0.816929  -1.550255   \n1    -1.010798  0.494555 -0.007415  0.136391      -0.896909   0.645055   \n2     0.639554  1.353490 -1.454209  0.358435      -0.896909   0.645055   \n3    -0.990168  2.116987 -1.092511  0.651725      -0.896909   0.645055   \n4     0.567351  0.685430  0.715982  0.813110       0.816929   0.645055   \n\n   IsActiveMember  EstimatedSalary  Geography_Germany  Geography_Spain  \\\n0        0.968496         0.331571                0.0              0.0   \n1        0.968496        -0.727858                0.0              0.0   \n2        0.968496        -0.477006                1.0              0.0   \n3        0.968496        -0.100232                0.0              0.0   \n4        0.968496         0.801922                0.0              0.0   \n\n   Gender_Male  \n0          0.0  \n1          1.0  \n2          1.0  \n3          0.0  \n4          0.0  ",
      "text/html": "<div>\n<style scoped>\n    .dataframe tbody tr th:only-of-type {\n        vertical-align: middle;\n    }\n\n    .dataframe tbody tr th {\n        vertical-align: top;\n    }\n\n    .dataframe thead th {\n        text-align: right;\n    }\n</style>\n<table border=\"1\" class=\"dataframe\">\n  <thead>\n    <tr style=\"text-align: right;\">\n      <th></th>\n      <th>CreditScore</th>\n      <th>Age</th>\n      <th>Tenure</th>\n      <th>Balance</th>\n      <th>NumOfProducts</th>\n      <th>HasCrCard</th>\n      <th>IsActiveMember</th>\n      <th>EstimatedSalary</th>\n      <th>Geography_Germany</th>\n      <th>Geography_Spain</th>\n      <th>Gender_Male</th>\n    </tr>\n  </thead>\n  <tbody>\n    <tr>\n      <th>0</th>\n      <td>-0.134048</td>\n      <td>-0.078068</td>\n      <td>-0.369113</td>\n      <td>0.076163</td>\n      <td>0.816929</td>\n      <td>-1.550255</td>\n      <td>0.968496</td>\n      <td>0.331571</td>\n      <td>0.0</td>\n      <td>0.0</td>\n      <td>0.0</td>\n    </tr>\n    <tr>\n      <th>1</th>\n      <td>-1.010798</td>\n      <td>0.494555</td>\n      <td>-0.007415</td>\n      <td>0.136391</td>\n      <td>-0.896909</td>\n      <td>0.645055</td>\n      <td>0.968496</td>\n      <td>-0.727858</td>\n      <td>0.0</td>\n      <td>0.0</td>\n      <td>1.0</td>\n    </tr>\n    <tr>\n      <th>2</th>\n      <td>0.639554</td>\n      <td>1.353490</td>\n      <td>-1.454209</td>\n      <td>0.358435</td>\n      <td>-0.896909</td>\n      <td>0.645055</td>\n      <td>0.968496</td>\n      <td>-0.477006</td>\n      <td>1.0</td>\n      <td>0.0</td>\n      <td>1.0</td>\n    </tr>\n    <tr>\n      <th>3</th>\n      <td>-0.990168</td>\n      <td>2.116987</td>\n      <td>-1.092511</td>\n      <td>0.651725</td>\n      <td>-0.896909</td>\n      <td>0.645055</td>\n      <td>0.968496</td>\n      <td>-0.100232</td>\n      <td>0.0</td>\n      <td>0.0</td>\n      <td>0.0</td>\n    </tr>\n    <tr>\n      <th>4</th>\n      <td>0.567351</td>\n      <td>0.685430</td>\n      <td>0.715982</td>\n      <td>0.813110</td>\n      <td>0.816929</td>\n      <td>0.645055</td>\n      <td>0.968496</td>\n      <td>0.801922</td>\n      <td>0.0</td>\n      <td>0.0</td>\n      <td>0.0</td>\n    </tr>\n  </tbody>\n</table>\n</div>"
     },
     "metadata": {},
     "output_type": "display_data"
    },
    {
     "data": {
      "text/plain": "(9562, 11)"
     },
     "metadata": {},
     "output_type": "display_data"
    }
   ],
   "source": [
    "# Подготовим увеличенные выборки (upsample)\n",
    "\n",
    "oversample = SMOTE(random_state=RANDOM_STATE)\n",
    "features_train_up, target_train_up = oversample.fit_resample(features_train, target_train)\n",
    "\n",
    "sample_info(features_train_up)"
   ],
   "metadata": {
    "collapsed": false
   }
  },
  {
   "cell_type": "code",
   "execution_count": 27,
   "outputs": [
    {
     "data": {
      "text/plain": "'Counter({0: 4781, 1: 4781})'"
     },
     "execution_count": 27,
     "metadata": {},
     "output_type": "execute_result"
    }
   ],
   "source": [
    "# проверим веса классов\n",
    "\n",
    "f'{Counter(target_train_up)}'"
   ],
   "metadata": {
    "collapsed": false
   }
  },
  {
   "cell_type": "code",
   "execution_count": 28,
   "outputs": [
    {
     "data": {
      "text/plain": "   CreditScore       Age    Tenure   Balance  NumOfProducts  HasCrCard  \\\n0     1.485360 -0.841565 -1.092511  0.970141       0.816929   0.645055   \n1    -1.485274 -0.078068 -0.730812  1.436546       0.816929  -1.550255   \n2    -1.712197 -1.414188 -1.454209 -1.232442      -0.896909   0.645055   \n3    -0.092789 -0.459816 -0.730812  0.101535      -0.896909   0.645055   \n4    -1.402756 -0.364379  1.801078  0.437813       0.816929  -1.550255   \n\n   IsActiveMember  EstimatedSalary  Geography_Germany  Geography_Spain  \\\n0       -1.032529        -0.643853                0.0              0.0   \n1        0.968496        -1.344786                0.0              0.0   \n2       -1.032529        -0.019356                0.0              1.0   \n3        0.968496        -1.366589                0.0              1.0   \n4       -1.032529         0.343596                0.0              0.0   \n\n   Gender_Male  \n0          1.0  \n1          0.0  \n2          1.0  \n3          1.0  \n4          1.0  ",
      "text/html": "<div>\n<style scoped>\n    .dataframe tbody tr th:only-of-type {\n        vertical-align: middle;\n    }\n\n    .dataframe tbody tr th {\n        vertical-align: top;\n    }\n\n    .dataframe thead th {\n        text-align: right;\n    }\n</style>\n<table border=\"1\" class=\"dataframe\">\n  <thead>\n    <tr style=\"text-align: right;\">\n      <th></th>\n      <th>CreditScore</th>\n      <th>Age</th>\n      <th>Tenure</th>\n      <th>Balance</th>\n      <th>NumOfProducts</th>\n      <th>HasCrCard</th>\n      <th>IsActiveMember</th>\n      <th>EstimatedSalary</th>\n      <th>Geography_Germany</th>\n      <th>Geography_Spain</th>\n      <th>Gender_Male</th>\n    </tr>\n  </thead>\n  <tbody>\n    <tr>\n      <th>0</th>\n      <td>1.485360</td>\n      <td>-0.841565</td>\n      <td>-1.092511</td>\n      <td>0.970141</td>\n      <td>0.816929</td>\n      <td>0.645055</td>\n      <td>-1.032529</td>\n      <td>-0.643853</td>\n      <td>0.0</td>\n      <td>0.0</td>\n      <td>1.0</td>\n    </tr>\n    <tr>\n      <th>1</th>\n      <td>-1.485274</td>\n      <td>-0.078068</td>\n      <td>-0.730812</td>\n      <td>1.436546</td>\n      <td>0.816929</td>\n      <td>-1.550255</td>\n      <td>0.968496</td>\n      <td>-1.344786</td>\n      <td>0.0</td>\n      <td>0.0</td>\n      <td>0.0</td>\n    </tr>\n    <tr>\n      <th>2</th>\n      <td>-1.712197</td>\n      <td>-1.414188</td>\n      <td>-1.454209</td>\n      <td>-1.232442</td>\n      <td>-0.896909</td>\n      <td>0.645055</td>\n      <td>-1.032529</td>\n      <td>-0.019356</td>\n      <td>0.0</td>\n      <td>1.0</td>\n      <td>1.0</td>\n    </tr>\n    <tr>\n      <th>3</th>\n      <td>-0.092789</td>\n      <td>-0.459816</td>\n      <td>-0.730812</td>\n      <td>0.101535</td>\n      <td>-0.896909</td>\n      <td>0.645055</td>\n      <td>0.968496</td>\n      <td>-1.366589</td>\n      <td>0.0</td>\n      <td>1.0</td>\n      <td>1.0</td>\n    </tr>\n    <tr>\n      <th>4</th>\n      <td>-1.402756</td>\n      <td>-0.364379</td>\n      <td>1.801078</td>\n      <td>0.437813</td>\n      <td>0.816929</td>\n      <td>-1.550255</td>\n      <td>-1.032529</td>\n      <td>0.343596</td>\n      <td>0.0</td>\n      <td>0.0</td>\n      <td>1.0</td>\n    </tr>\n  </tbody>\n</table>\n</div>"
     },
     "metadata": {},
     "output_type": "display_data"
    },
    {
     "data": {
      "text/plain": "(2438, 11)"
     },
     "metadata": {},
     "output_type": "display_data"
    }
   ],
   "source": [
    "# Подготовим уменьшенные выборки (downsample)\n",
    "\n",
    "undersample = RandomUnderSampler(random_state=RANDOM_STATE)\n",
    "features_train_down, target_train_down = undersample.fit_resample(features_train, target_train)\n",
    "\n",
    "sample_info(features_train_down)"
   ],
   "metadata": {
    "collapsed": false
   }
  },
  {
   "cell_type": "code",
   "execution_count": 29,
   "outputs": [
    {
     "data": {
      "text/plain": "'Counter({0: 1219, 1: 1219})'"
     },
     "execution_count": 29,
     "metadata": {},
     "output_type": "execute_result"
    }
   ],
   "source": [
    "# проверим веса классов\n",
    "\n",
    "f'{Counter(target_train_down)}'"
   ],
   "metadata": {
    "collapsed": false
   }
  },
  {
   "cell_type": "code",
   "execution_count": 30,
   "outputs": [
    {
     "data": {
      "text/plain": "'f1: 0.4750889679715302, auc-roc: 0.7725740281250446'"
     },
     "execution_count": 30,
     "metadata": {},
     "output_type": "execute_result"
    }
   ],
   "source": [
    "# Обучим модель логистической регрессии, но с параметром class_weight='balanced'\n",
    "\n",
    "model = LogisticRegression(random_state=RANDOM_STATE, solver='liblinear', class_weight='balanced')\n",
    "model.fit(features_train, target_train)\n",
    "predicted_valid = model.predict(features_valid)\n",
    "f1_balanced = f1_score(target_valid, predicted_valid)\n",
    "\n",
    "f'f1: {f1_balanced}, auc-roc: {calculation_of_aucroc(model, features_valid, target_valid)}'"
   ],
   "metadata": {
    "collapsed": false
   }
  },
  {
   "cell_type": "code",
   "execution_count": 31,
   "outputs": [
    {
     "data": {
      "text/plain": "'f1: 0.5587044534412956, auc-roc: 0.8090671240258203, depth: 6'"
     },
     "execution_count": 31,
     "metadata": {},
     "output_type": "execute_result"
    }
   ],
   "source": [
    "# поработаем с гиперпараметрами модели \"Дерево решений\" со взвешенными классами\n",
    "\n",
    "best_depth = 0\n",
    "best_f1 = f1_balanced\n",
    "best_model = model\n",
    "for depth in range(1, 20):\n",
    "    model_tree = DecisionTreeClassifier(random_state=RANDOM_STATE, max_depth=depth, class_weight='balanced')\n",
    "    model_tree.fit(features_train, target_train)\n",
    "    predicted_valid = model_tree.predict(features_valid)\n",
    "    f1_tree = f1_score(target_valid, predicted_valid)\n",
    "    if f1_tree > best_f1:\n",
    "        best_depth = depth\n",
    "        best_f1 = f1_tree\n",
    "        best_model = model_tree\n",
    "\n",
    "f'f1: {best_f1}, auc-roc: {calculation_of_aucroc(best_model, features_valid, target_valid)}, depth: {best_depth}'"
   ],
   "metadata": {
    "collapsed": false
   }
  },
  {
   "cell_type": "code",
   "execution_count": 32,
   "outputs": [
    {
     "name": "stderr",
     "output_type": "stream",
     "text": [
      "100%|██████████| 19/19 [01:48<00:00,  5.73s/it]\n"
     ]
    },
    {
     "data": {
      "text/plain": "'f1: 0.5974358974358975, auc-roc: 0.8529213074156081, depth: 10, est: 90'"
     },
     "execution_count": 32,
     "metadata": {},
     "output_type": "execute_result"
    }
   ],
   "source": [
    "# Теперь исследуем модель случайного леса\n",
    "\n",
    "best_depth = 0\n",
    "best_est = 0\n",
    "best_f1 = best_f1\n",
    "best_model = best_model\n",
    "\n",
    "for depth in tqdm(range(1, 20)):\n",
    "    for est in range(10, 170, 10):\n",
    "        model = RandomForestClassifier(random_state=RANDOM_STATE, max_depth=depth, n_estimators=est, class_weight='balanced')\n",
    "        model.fit(features_train, target_train)\n",
    "        predicted_valid = model.predict(features_valid)\n",
    "        f1 = f1_score(target_valid, predicted_valid)\n",
    "        if f1 > best_f1:\n",
    "            best_depth = depth\n",
    "            best_est = est\n",
    "            best_f1 = f1\n",
    "            best_model = model\n",
    "\n",
    "f'f1: {best_f1}, auc-roc: {calculation_of_aucroc(best_model, features_valid, target_valid)}, depth: {best_depth}, est: {best_est}'"
   ],
   "metadata": {
    "collapsed": false
   }
  },
  {
   "cell_type": "code",
   "execution_count": 33,
   "outputs": [
    {
     "name": "stdout",
     "output_type": "stream",
     "text": [
      "Wall time: 507 ms\n"
     ]
    },
    {
     "data": {
      "text/plain": "RandomForestClassifier(class_weight='balanced', max_depth=10, n_estimators=90,\n                       random_state=12345)",
      "text/html": "<style>#sk-container-id-2 {color: black;background-color: white;}#sk-container-id-2 pre{padding: 0;}#sk-container-id-2 div.sk-toggleable {background-color: white;}#sk-container-id-2 label.sk-toggleable__label {cursor: pointer;display: block;width: 100%;margin-bottom: 0;padding: 0.3em;box-sizing: border-box;text-align: center;}#sk-container-id-2 label.sk-toggleable__label-arrow:before {content: \"▸\";float: left;margin-right: 0.25em;color: #696969;}#sk-container-id-2 label.sk-toggleable__label-arrow:hover:before {color: black;}#sk-container-id-2 div.sk-estimator:hover label.sk-toggleable__label-arrow:before {color: black;}#sk-container-id-2 div.sk-toggleable__content {max-height: 0;max-width: 0;overflow: hidden;text-align: left;background-color: #f0f8ff;}#sk-container-id-2 div.sk-toggleable__content pre {margin: 0.2em;color: black;border-radius: 0.25em;background-color: #f0f8ff;}#sk-container-id-2 input.sk-toggleable__control:checked~div.sk-toggleable__content {max-height: 200px;max-width: 100%;overflow: auto;}#sk-container-id-2 input.sk-toggleable__control:checked~label.sk-toggleable__label-arrow:before {content: \"▾\";}#sk-container-id-2 div.sk-estimator input.sk-toggleable__control:checked~label.sk-toggleable__label {background-color: #d4ebff;}#sk-container-id-2 div.sk-label input.sk-toggleable__control:checked~label.sk-toggleable__label {background-color: #d4ebff;}#sk-container-id-2 input.sk-hidden--visually {border: 0;clip: rect(1px 1px 1px 1px);clip: rect(1px, 1px, 1px, 1px);height: 1px;margin: -1px;overflow: hidden;padding: 0;position: absolute;width: 1px;}#sk-container-id-2 div.sk-estimator {font-family: monospace;background-color: #f0f8ff;border: 1px dotted black;border-radius: 0.25em;box-sizing: border-box;margin-bottom: 0.5em;}#sk-container-id-2 div.sk-estimator:hover {background-color: #d4ebff;}#sk-container-id-2 div.sk-parallel-item::after {content: \"\";width: 100%;border-bottom: 1px solid gray;flex-grow: 1;}#sk-container-id-2 div.sk-label:hover label.sk-toggleable__label {background-color: #d4ebff;}#sk-container-id-2 div.sk-serial::before {content: \"\";position: absolute;border-left: 1px solid gray;box-sizing: border-box;top: 0;bottom: 0;left: 50%;z-index: 0;}#sk-container-id-2 div.sk-serial {display: flex;flex-direction: column;align-items: center;background-color: white;padding-right: 0.2em;padding-left: 0.2em;position: relative;}#sk-container-id-2 div.sk-item {position: relative;z-index: 1;}#sk-container-id-2 div.sk-parallel {display: flex;align-items: stretch;justify-content: center;background-color: white;position: relative;}#sk-container-id-2 div.sk-item::before, #sk-container-id-2 div.sk-parallel-item::before {content: \"\";position: absolute;border-left: 1px solid gray;box-sizing: border-box;top: 0;bottom: 0;left: 50%;z-index: -1;}#sk-container-id-2 div.sk-parallel-item {display: flex;flex-direction: column;z-index: 1;position: relative;background-color: white;}#sk-container-id-2 div.sk-parallel-item:first-child::after {align-self: flex-end;width: 50%;}#sk-container-id-2 div.sk-parallel-item:last-child::after {align-self: flex-start;width: 50%;}#sk-container-id-2 div.sk-parallel-item:only-child::after {width: 0;}#sk-container-id-2 div.sk-dashed-wrapped {border: 1px dashed gray;margin: 0 0.4em 0.5em 0.4em;box-sizing: border-box;padding-bottom: 0.4em;background-color: white;}#sk-container-id-2 div.sk-label label {font-family: monospace;font-weight: bold;display: inline-block;line-height: 1.2em;}#sk-container-id-2 div.sk-label-container {text-align: center;}#sk-container-id-2 div.sk-container {/* jupyter's `normalize.less` sets `[hidden] { display: none; }` but bootstrap.min.css set `[hidden] { display: none !important; }` so we also need the `!important` here to be able to override the default hidden behavior on the sphinx rendered scikit-learn.org. See: https://github.com/scikit-learn/scikit-learn/issues/21755 */display: inline-block !important;position: relative;}#sk-container-id-2 div.sk-text-repr-fallback {display: none;}</style><div id=\"sk-container-id-2\" class=\"sk-top-container\"><div class=\"sk-text-repr-fallback\"><pre>RandomForestClassifier(class_weight=&#x27;balanced&#x27;, max_depth=10, n_estimators=90,\n                       random_state=12345)</pre><b>In a Jupyter environment, please rerun this cell to show the HTML representation or trust the notebook. <br />On GitHub, the HTML representation is unable to render, please try loading this page with nbviewer.org.</b></div><div class=\"sk-container\" hidden><div class=\"sk-item\"><div class=\"sk-estimator sk-toggleable\"><input class=\"sk-toggleable__control sk-hidden--visually\" id=\"sk-estimator-id-2\" type=\"checkbox\" checked><label for=\"sk-estimator-id-2\" class=\"sk-toggleable__label sk-toggleable__label-arrow\">RandomForestClassifier</label><div class=\"sk-toggleable__content\"><pre>RandomForestClassifier(class_weight=&#x27;balanced&#x27;, max_depth=10, n_estimators=90,\n                       random_state=12345)</pre></div></div></div></div></div>"
     },
     "execution_count": 33,
     "metadata": {},
     "output_type": "execute_result"
    }
   ],
   "source": [
    "%%time\n",
    "\n",
    "# Измерим время обучения модели\n",
    "\n",
    "best_model.fit(features_train, target_train)"
   ],
   "metadata": {
    "collapsed": false
   }
  },
  {
   "cell_type": "markdown",
   "source": [
    "На **взвешенных классах** лучшие результаты показа модель **случайного леса** с гиперпараметрами *max_depth=10, n_estimators=150*:\n",
    "- *F1-мера*: 0.61\n",
    "- *AUC-ROC*: 0.85\n",
    "- время обучения модели - 627 мс\n",
    "\n",
    "Дальше будем исследовать модели на увеличенных выборках."
   ],
   "metadata": {
    "collapsed": false
   }
  },
  {
   "cell_type": "code",
   "execution_count": 34,
   "outputs": [
    {
     "data": {
      "text/plain": "'f1: 0.4820788530465949, auc-roc: 0.7730683702129485'"
     },
     "execution_count": 34,
     "metadata": {},
     "output_type": "execute_result"
    }
   ],
   "source": [
    "# обучим модель логистической регрессии\n",
    "\n",
    "model = LogisticRegression(random_state=RANDOM_STATE, solver='liblinear')\n",
    "model.fit(features_train_up, target_train_up)\n",
    "predicted_valid = model.predict(features_valid)\n",
    "f1_up = f1_score(target_valid, predicted_valid)\n",
    "\n",
    "f'f1: {f1_up}, auc-roc: {calculation_of_aucroc(model, features_valid, target_valid)}'"
   ],
   "metadata": {
    "collapsed": false
   }
  },
  {
   "cell_type": "code",
   "execution_count": 35,
   "outputs": [
    {
     "data": {
      "text/plain": "'f1: 0.5626423690205011, auc-roc: 0.8119743641505025, depth: 7'"
     },
     "execution_count": 35,
     "metadata": {},
     "output_type": "execute_result"
    }
   ],
   "source": [
    "# поработаем с гиперпараметрами модели \"Дерево решений\"\n",
    "\n",
    "best_depth = 0\n",
    "best_f1 = f1_up\n",
    "best_model = model\n",
    "for depth in range(1, 20):\n",
    "    model_tree = DecisionTreeClassifier(random_state=RANDOM_STATE, max_depth=depth)\n",
    "    model_tree.fit(features_train_up, target_train_up)\n",
    "    predicted_valid = model_tree.predict(features_valid)\n",
    "    f1_tree = f1_score(target_valid, predicted_valid)\n",
    "    if f1_tree > best_f1:\n",
    "        best_depth = depth\n",
    "        best_f1 = f1_tree\n",
    "        best_model = model_tree\n",
    "\n",
    "f'f1: {best_f1}, auc-roc: {calculation_of_aucroc(best_model, features_valid, target_valid)}, depth: {best_depth}'"
   ],
   "metadata": {
    "collapsed": false
   }
  },
  {
   "cell_type": "code",
   "execution_count": 36,
   "outputs": [
    {
     "name": "stderr",
     "output_type": "stream",
     "text": [
      "100%|██████████| 19/19 [02:56<00:00,  9.28s/it]\n"
     ]
    },
    {
     "data": {
      "text/plain": "'f1: 0.6134969325153374, auc-roc: 0.8554883893190319, depth: 10, est: 130'"
     },
     "execution_count": 36,
     "metadata": {},
     "output_type": "execute_result"
    }
   ],
   "source": [
    "# Теперь исследуем модель случайного леса\n",
    "\n",
    "best_depth = 0\n",
    "best_est = 0\n",
    "best_f1 = best_f1\n",
    "best_model = best_model\n",
    "\n",
    "for depth in tqdm(range(1, 20)):\n",
    "    for est in range(10, 170, 10):\n",
    "        model = RandomForestClassifier(random_state=RANDOM_STATE, max_depth=depth, n_estimators=est)\n",
    "        model.fit(features_train_up, target_train_up)\n",
    "        predicted_valid = model.predict(features_valid)\n",
    "        f1 = f1_score(target_valid, predicted_valid)\n",
    "        if f1 > best_f1:\n",
    "            best_depth = depth\n",
    "            best_est = est\n",
    "            best_f1 = f1\n",
    "            best_model = model\n",
    "\n",
    "f'f1: {best_f1}, auc-roc: {calculation_of_aucroc(best_model, features_valid, target_valid)}, depth: {best_depth}, est: {best_est}'"
   ],
   "metadata": {
    "collapsed": false
   }
  },
  {
   "cell_type": "code",
   "execution_count": 37,
   "outputs": [
    {
     "name": "stdout",
     "output_type": "stream",
     "text": [
      "Wall time: 1.05 s\n"
     ]
    },
    {
     "data": {
      "text/plain": "RandomForestClassifier(max_depth=10, n_estimators=130, random_state=12345)",
      "text/html": "<style>#sk-container-id-3 {color: black;background-color: white;}#sk-container-id-3 pre{padding: 0;}#sk-container-id-3 div.sk-toggleable {background-color: white;}#sk-container-id-3 label.sk-toggleable__label {cursor: pointer;display: block;width: 100%;margin-bottom: 0;padding: 0.3em;box-sizing: border-box;text-align: center;}#sk-container-id-3 label.sk-toggleable__label-arrow:before {content: \"▸\";float: left;margin-right: 0.25em;color: #696969;}#sk-container-id-3 label.sk-toggleable__label-arrow:hover:before {color: black;}#sk-container-id-3 div.sk-estimator:hover label.sk-toggleable__label-arrow:before {color: black;}#sk-container-id-3 div.sk-toggleable__content {max-height: 0;max-width: 0;overflow: hidden;text-align: left;background-color: #f0f8ff;}#sk-container-id-3 div.sk-toggleable__content pre {margin: 0.2em;color: black;border-radius: 0.25em;background-color: #f0f8ff;}#sk-container-id-3 input.sk-toggleable__control:checked~div.sk-toggleable__content {max-height: 200px;max-width: 100%;overflow: auto;}#sk-container-id-3 input.sk-toggleable__control:checked~label.sk-toggleable__label-arrow:before {content: \"▾\";}#sk-container-id-3 div.sk-estimator input.sk-toggleable__control:checked~label.sk-toggleable__label {background-color: #d4ebff;}#sk-container-id-3 div.sk-label input.sk-toggleable__control:checked~label.sk-toggleable__label {background-color: #d4ebff;}#sk-container-id-3 input.sk-hidden--visually {border: 0;clip: rect(1px 1px 1px 1px);clip: rect(1px, 1px, 1px, 1px);height: 1px;margin: -1px;overflow: hidden;padding: 0;position: absolute;width: 1px;}#sk-container-id-3 div.sk-estimator {font-family: monospace;background-color: #f0f8ff;border: 1px dotted black;border-radius: 0.25em;box-sizing: border-box;margin-bottom: 0.5em;}#sk-container-id-3 div.sk-estimator:hover {background-color: #d4ebff;}#sk-container-id-3 div.sk-parallel-item::after {content: \"\";width: 100%;border-bottom: 1px solid gray;flex-grow: 1;}#sk-container-id-3 div.sk-label:hover label.sk-toggleable__label {background-color: #d4ebff;}#sk-container-id-3 div.sk-serial::before {content: \"\";position: absolute;border-left: 1px solid gray;box-sizing: border-box;top: 0;bottom: 0;left: 50%;z-index: 0;}#sk-container-id-3 div.sk-serial {display: flex;flex-direction: column;align-items: center;background-color: white;padding-right: 0.2em;padding-left: 0.2em;position: relative;}#sk-container-id-3 div.sk-item {position: relative;z-index: 1;}#sk-container-id-3 div.sk-parallel {display: flex;align-items: stretch;justify-content: center;background-color: white;position: relative;}#sk-container-id-3 div.sk-item::before, #sk-container-id-3 div.sk-parallel-item::before {content: \"\";position: absolute;border-left: 1px solid gray;box-sizing: border-box;top: 0;bottom: 0;left: 50%;z-index: -1;}#sk-container-id-3 div.sk-parallel-item {display: flex;flex-direction: column;z-index: 1;position: relative;background-color: white;}#sk-container-id-3 div.sk-parallel-item:first-child::after {align-self: flex-end;width: 50%;}#sk-container-id-3 div.sk-parallel-item:last-child::after {align-self: flex-start;width: 50%;}#sk-container-id-3 div.sk-parallel-item:only-child::after {width: 0;}#sk-container-id-3 div.sk-dashed-wrapped {border: 1px dashed gray;margin: 0 0.4em 0.5em 0.4em;box-sizing: border-box;padding-bottom: 0.4em;background-color: white;}#sk-container-id-3 div.sk-label label {font-family: monospace;font-weight: bold;display: inline-block;line-height: 1.2em;}#sk-container-id-3 div.sk-label-container {text-align: center;}#sk-container-id-3 div.sk-container {/* jupyter's `normalize.less` sets `[hidden] { display: none; }` but bootstrap.min.css set `[hidden] { display: none !important; }` so we also need the `!important` here to be able to override the default hidden behavior on the sphinx rendered scikit-learn.org. See: https://github.com/scikit-learn/scikit-learn/issues/21755 */display: inline-block !important;position: relative;}#sk-container-id-3 div.sk-text-repr-fallback {display: none;}</style><div id=\"sk-container-id-3\" class=\"sk-top-container\"><div class=\"sk-text-repr-fallback\"><pre>RandomForestClassifier(max_depth=10, n_estimators=130, random_state=12345)</pre><b>In a Jupyter environment, please rerun this cell to show the HTML representation or trust the notebook. <br />On GitHub, the HTML representation is unable to render, please try loading this page with nbviewer.org.</b></div><div class=\"sk-container\" hidden><div class=\"sk-item\"><div class=\"sk-estimator sk-toggleable\"><input class=\"sk-toggleable__control sk-hidden--visually\" id=\"sk-estimator-id-3\" type=\"checkbox\" checked><label for=\"sk-estimator-id-3\" class=\"sk-toggleable__label sk-toggleable__label-arrow\">RandomForestClassifier</label><div class=\"sk-toggleable__content\"><pre>RandomForestClassifier(max_depth=10, n_estimators=130, random_state=12345)</pre></div></div></div></div></div>"
     },
     "execution_count": 37,
     "metadata": {},
     "output_type": "execute_result"
    }
   ],
   "source": [
    "%%time\n",
    "\n",
    "# Измерим время обучения модели\n",
    "\n",
    "best_model.fit(features_train_up, target_train_up)"
   ],
   "metadata": {
    "collapsed": false
   }
  },
  {
   "cell_type": "markdown",
   "source": [
    "С методом **upsampling** лучшие результаты показала модель **случайного леса** с гиперпараметрами *max_depth=12, n_estimators=40*:\n",
    "- *F1-мера*: 0.61 (на 0,01 выше, чем при взвешенных классах)\n",
    "- *AUC-ROC*: 0.85 (на 0,01 выше, чем при взвешенных классах)\n",
    "- время обучения модели - 370 мс\n",
    "\n",
    "Дальше будем исследовать модели на уменьшенных выборках."
   ],
   "metadata": {
    "collapsed": false
   }
  },
  {
   "cell_type": "code",
   "execution_count": 38,
   "outputs": [
    {
     "data": {
      "text/plain": "'f1: 0.47424511545293074, auc-roc: 0.7735563542032589'"
     },
     "execution_count": 38,
     "metadata": {},
     "output_type": "execute_result"
    }
   ],
   "source": [
    "# обучим модель логистической регрессии\n",
    "\n",
    "model = LogisticRegression(random_state=RANDOM_STATE, solver='liblinear')\n",
    "model.fit(features_train_down, target_train_down)\n",
    "predicted_valid = model.predict(features_valid)\n",
    "f1_down = f1_score(target_valid, predicted_valid)\n",
    "\n",
    "f'f1: {f1_down}, auc-roc: {calculation_of_aucroc(model, features_valid, target_valid)}'"
   ],
   "metadata": {
    "collapsed": false
   }
  },
  {
   "cell_type": "code",
   "execution_count": 39,
   "outputs": [
    {
     "data": {
      "text/plain": "'f1: 0.5444234404536863, auc-roc: 0.8120562246570204, depth: 6'"
     },
     "execution_count": 39,
     "metadata": {},
     "output_type": "execute_result"
    }
   ],
   "source": [
    "# поработаем с гиперпараметрами модели \"Дерево решений\"\n",
    "\n",
    "best_depth = 0\n",
    "best_f1 = f1_down\n",
    "best_model = model\n",
    "for depth in range(1, 20):\n",
    "    model_tree = DecisionTreeClassifier(random_state=RANDOM_STATE, max_depth=depth)\n",
    "    model_tree.fit(features_train_down, target_train_down)\n",
    "    predicted_valid = model_tree.predict(features_valid)\n",
    "    f1_tree = f1_score(target_valid, predicted_valid)\n",
    "    if f1_tree > best_f1:\n",
    "        best_depth = depth\n",
    "        best_f1 = f1_tree\n",
    "        best_model = model_tree\n",
    "\n",
    "f'f1: {best_f1}, auc-roc: {calculation_of_aucroc(best_model, features_valid, target_valid)}, depth: {best_depth}'"
   ],
   "metadata": {
    "collapsed": false
   }
  },
  {
   "cell_type": "code",
   "execution_count": 40,
   "outputs": [
    {
     "name": "stderr",
     "output_type": "stream",
     "text": [
      "100%|██████████| 19/19 [01:01<00:00,  3.21s/it]\n"
     ]
    },
    {
     "data": {
      "text/plain": "'f1: 0.5752302968270215, auc-roc: 0.8467348784570169, depth: 7, est: 40'"
     },
     "execution_count": 40,
     "metadata": {},
     "output_type": "execute_result"
    }
   ],
   "source": [
    "# Теперь исследуем модель случайного леса\n",
    "\n",
    "best_depth = 0\n",
    "best_est = 0\n",
    "best_f1 = best_f1\n",
    "best_model = best_model\n",
    "\n",
    "for depth in tqdm(range(1, 20)):\n",
    "    for est in range(10, 170, 10):\n",
    "        model = RandomForestClassifier(random_state=RANDOM_STATE, max_depth=depth, n_estimators=est)\n",
    "        model.fit(features_train_down, target_train_down)\n",
    "        predicted_valid = model.predict(features_valid)\n",
    "        f1 = f1_score(target_valid, predicted_valid)\n",
    "        if f1 > best_f1:\n",
    "            best_depth = depth\n",
    "            best_est = est\n",
    "            best_f1 = f1\n",
    "            best_model = model\n",
    "\n",
    "f'f1: {best_f1}, auc-roc: {calculation_of_aucroc(best_model, features_valid, target_valid)}, depth: {best_depth}, est: {best_est}'"
   ],
   "metadata": {
    "collapsed": false
   }
  },
  {
   "cell_type": "code",
   "execution_count": 41,
   "outputs": [
    {
     "name": "stdout",
     "output_type": "stream",
     "text": [
      "Wall time: 88 ms\n"
     ]
    },
    {
     "data": {
      "text/plain": "RandomForestClassifier(max_depth=7, n_estimators=40, random_state=12345)",
      "text/html": "<style>#sk-container-id-4 {color: black;background-color: white;}#sk-container-id-4 pre{padding: 0;}#sk-container-id-4 div.sk-toggleable {background-color: white;}#sk-container-id-4 label.sk-toggleable__label {cursor: pointer;display: block;width: 100%;margin-bottom: 0;padding: 0.3em;box-sizing: border-box;text-align: center;}#sk-container-id-4 label.sk-toggleable__label-arrow:before {content: \"▸\";float: left;margin-right: 0.25em;color: #696969;}#sk-container-id-4 label.sk-toggleable__label-arrow:hover:before {color: black;}#sk-container-id-4 div.sk-estimator:hover label.sk-toggleable__label-arrow:before {color: black;}#sk-container-id-4 div.sk-toggleable__content {max-height: 0;max-width: 0;overflow: hidden;text-align: left;background-color: #f0f8ff;}#sk-container-id-4 div.sk-toggleable__content pre {margin: 0.2em;color: black;border-radius: 0.25em;background-color: #f0f8ff;}#sk-container-id-4 input.sk-toggleable__control:checked~div.sk-toggleable__content {max-height: 200px;max-width: 100%;overflow: auto;}#sk-container-id-4 input.sk-toggleable__control:checked~label.sk-toggleable__label-arrow:before {content: \"▾\";}#sk-container-id-4 div.sk-estimator input.sk-toggleable__control:checked~label.sk-toggleable__label {background-color: #d4ebff;}#sk-container-id-4 div.sk-label input.sk-toggleable__control:checked~label.sk-toggleable__label {background-color: #d4ebff;}#sk-container-id-4 input.sk-hidden--visually {border: 0;clip: rect(1px 1px 1px 1px);clip: rect(1px, 1px, 1px, 1px);height: 1px;margin: -1px;overflow: hidden;padding: 0;position: absolute;width: 1px;}#sk-container-id-4 div.sk-estimator {font-family: monospace;background-color: #f0f8ff;border: 1px dotted black;border-radius: 0.25em;box-sizing: border-box;margin-bottom: 0.5em;}#sk-container-id-4 div.sk-estimator:hover {background-color: #d4ebff;}#sk-container-id-4 div.sk-parallel-item::after {content: \"\";width: 100%;border-bottom: 1px solid gray;flex-grow: 1;}#sk-container-id-4 div.sk-label:hover label.sk-toggleable__label {background-color: #d4ebff;}#sk-container-id-4 div.sk-serial::before {content: \"\";position: absolute;border-left: 1px solid gray;box-sizing: border-box;top: 0;bottom: 0;left: 50%;z-index: 0;}#sk-container-id-4 div.sk-serial {display: flex;flex-direction: column;align-items: center;background-color: white;padding-right: 0.2em;padding-left: 0.2em;position: relative;}#sk-container-id-4 div.sk-item {position: relative;z-index: 1;}#sk-container-id-4 div.sk-parallel {display: flex;align-items: stretch;justify-content: center;background-color: white;position: relative;}#sk-container-id-4 div.sk-item::before, #sk-container-id-4 div.sk-parallel-item::before {content: \"\";position: absolute;border-left: 1px solid gray;box-sizing: border-box;top: 0;bottom: 0;left: 50%;z-index: -1;}#sk-container-id-4 div.sk-parallel-item {display: flex;flex-direction: column;z-index: 1;position: relative;background-color: white;}#sk-container-id-4 div.sk-parallel-item:first-child::after {align-self: flex-end;width: 50%;}#sk-container-id-4 div.sk-parallel-item:last-child::after {align-self: flex-start;width: 50%;}#sk-container-id-4 div.sk-parallel-item:only-child::after {width: 0;}#sk-container-id-4 div.sk-dashed-wrapped {border: 1px dashed gray;margin: 0 0.4em 0.5em 0.4em;box-sizing: border-box;padding-bottom: 0.4em;background-color: white;}#sk-container-id-4 div.sk-label label {font-family: monospace;font-weight: bold;display: inline-block;line-height: 1.2em;}#sk-container-id-4 div.sk-label-container {text-align: center;}#sk-container-id-4 div.sk-container {/* jupyter's `normalize.less` sets `[hidden] { display: none; }` but bootstrap.min.css set `[hidden] { display: none !important; }` so we also need the `!important` here to be able to override the default hidden behavior on the sphinx rendered scikit-learn.org. See: https://github.com/scikit-learn/scikit-learn/issues/21755 */display: inline-block !important;position: relative;}#sk-container-id-4 div.sk-text-repr-fallback {display: none;}</style><div id=\"sk-container-id-4\" class=\"sk-top-container\"><div class=\"sk-text-repr-fallback\"><pre>RandomForestClassifier(max_depth=7, n_estimators=40, random_state=12345)</pre><b>In a Jupyter environment, please rerun this cell to show the HTML representation or trust the notebook. <br />On GitHub, the HTML representation is unable to render, please try loading this page with nbviewer.org.</b></div><div class=\"sk-container\" hidden><div class=\"sk-item\"><div class=\"sk-estimator sk-toggleable\"><input class=\"sk-toggleable__control sk-hidden--visually\" id=\"sk-estimator-id-4\" type=\"checkbox\" checked><label for=\"sk-estimator-id-4\" class=\"sk-toggleable__label sk-toggleable__label-arrow\">RandomForestClassifier</label><div class=\"sk-toggleable__content\"><pre>RandomForestClassifier(max_depth=7, n_estimators=40, random_state=12345)</pre></div></div></div></div></div>"
     },
     "execution_count": 41,
     "metadata": {},
     "output_type": "execute_result"
    }
   ],
   "source": [
    "%%time\n",
    "\n",
    "# Измерим время обучения модели\n",
    "\n",
    "best_model.fit(features_train_down, target_train_down)"
   ],
   "metadata": {
    "collapsed": false
   }
  },
  {
   "cell_type": "markdown",
   "source": [
    "<div class='alert alert-info'>\n",
    "<b>Корректировка</b><br><br>\n",
    "Проведено исследование различных моделей с учетом баланса классов и без учёта баланса:\n",
    "<ul>\n",
    "<li>Во всех исследованиях безусловным победителем оказалась модель RandomForestClassifier;</li>\n",
    "<li>Самые высокие метрики качества оказались у модели обученной на сбалансированных методом *upsampling* данных и составили f1: 0.6084507042253521, auc-roc: 0.8505105074590915;</li>\n",
    "<li>При этом следует отметить, что в данной модели всего 40 деревьев и время обучения оказалось одним из самых низких (среди других моделей \"Случайного леса\")</li>\n",
    "</ul>\n",
    "Гиперпараметры лучшей модели:\n",
    "*RandomForestClassifier(max_depth=12, n_estimators=40, random_state=12345)*\n",
    "Для дальнейшей проверки на тестовых данных, обучим модель с указанными гиперпараметрами на увеличенных выборках.\n",
    "</div>"
   ],
   "metadata": {
    "collapsed": false
   }
  },
  {
   "cell_type": "code",
   "execution_count": 42,
   "outputs": [
    {
     "data": {
      "text/plain": "RandomForestClassifier(max_depth=10, n_estimators=130, random_state=12345)",
      "text/html": "<style>#sk-container-id-5 {color: black;background-color: white;}#sk-container-id-5 pre{padding: 0;}#sk-container-id-5 div.sk-toggleable {background-color: white;}#sk-container-id-5 label.sk-toggleable__label {cursor: pointer;display: block;width: 100%;margin-bottom: 0;padding: 0.3em;box-sizing: border-box;text-align: center;}#sk-container-id-5 label.sk-toggleable__label-arrow:before {content: \"▸\";float: left;margin-right: 0.25em;color: #696969;}#sk-container-id-5 label.sk-toggleable__label-arrow:hover:before {color: black;}#sk-container-id-5 div.sk-estimator:hover label.sk-toggleable__label-arrow:before {color: black;}#sk-container-id-5 div.sk-toggleable__content {max-height: 0;max-width: 0;overflow: hidden;text-align: left;background-color: #f0f8ff;}#sk-container-id-5 div.sk-toggleable__content pre {margin: 0.2em;color: black;border-radius: 0.25em;background-color: #f0f8ff;}#sk-container-id-5 input.sk-toggleable__control:checked~div.sk-toggleable__content {max-height: 200px;max-width: 100%;overflow: auto;}#sk-container-id-5 input.sk-toggleable__control:checked~label.sk-toggleable__label-arrow:before {content: \"▾\";}#sk-container-id-5 div.sk-estimator input.sk-toggleable__control:checked~label.sk-toggleable__label {background-color: #d4ebff;}#sk-container-id-5 div.sk-label input.sk-toggleable__control:checked~label.sk-toggleable__label {background-color: #d4ebff;}#sk-container-id-5 input.sk-hidden--visually {border: 0;clip: rect(1px 1px 1px 1px);clip: rect(1px, 1px, 1px, 1px);height: 1px;margin: -1px;overflow: hidden;padding: 0;position: absolute;width: 1px;}#sk-container-id-5 div.sk-estimator {font-family: monospace;background-color: #f0f8ff;border: 1px dotted black;border-radius: 0.25em;box-sizing: border-box;margin-bottom: 0.5em;}#sk-container-id-5 div.sk-estimator:hover {background-color: #d4ebff;}#sk-container-id-5 div.sk-parallel-item::after {content: \"\";width: 100%;border-bottom: 1px solid gray;flex-grow: 1;}#sk-container-id-5 div.sk-label:hover label.sk-toggleable__label {background-color: #d4ebff;}#sk-container-id-5 div.sk-serial::before {content: \"\";position: absolute;border-left: 1px solid gray;box-sizing: border-box;top: 0;bottom: 0;left: 50%;z-index: 0;}#sk-container-id-5 div.sk-serial {display: flex;flex-direction: column;align-items: center;background-color: white;padding-right: 0.2em;padding-left: 0.2em;position: relative;}#sk-container-id-5 div.sk-item {position: relative;z-index: 1;}#sk-container-id-5 div.sk-parallel {display: flex;align-items: stretch;justify-content: center;background-color: white;position: relative;}#sk-container-id-5 div.sk-item::before, #sk-container-id-5 div.sk-parallel-item::before {content: \"\";position: absolute;border-left: 1px solid gray;box-sizing: border-box;top: 0;bottom: 0;left: 50%;z-index: -1;}#sk-container-id-5 div.sk-parallel-item {display: flex;flex-direction: column;z-index: 1;position: relative;background-color: white;}#sk-container-id-5 div.sk-parallel-item:first-child::after {align-self: flex-end;width: 50%;}#sk-container-id-5 div.sk-parallel-item:last-child::after {align-self: flex-start;width: 50%;}#sk-container-id-5 div.sk-parallel-item:only-child::after {width: 0;}#sk-container-id-5 div.sk-dashed-wrapped {border: 1px dashed gray;margin: 0 0.4em 0.5em 0.4em;box-sizing: border-box;padding-bottom: 0.4em;background-color: white;}#sk-container-id-5 div.sk-label label {font-family: monospace;font-weight: bold;display: inline-block;line-height: 1.2em;}#sk-container-id-5 div.sk-label-container {text-align: center;}#sk-container-id-5 div.sk-container {/* jupyter's `normalize.less` sets `[hidden] { display: none; }` but bootstrap.min.css set `[hidden] { display: none !important; }` so we also need the `!important` here to be able to override the default hidden behavior on the sphinx rendered scikit-learn.org. See: https://github.com/scikit-learn/scikit-learn/issues/21755 */display: inline-block !important;position: relative;}#sk-container-id-5 div.sk-text-repr-fallback {display: none;}</style><div id=\"sk-container-id-5\" class=\"sk-top-container\"><div class=\"sk-text-repr-fallback\"><pre>RandomForestClassifier(max_depth=10, n_estimators=130, random_state=12345)</pre><b>In a Jupyter environment, please rerun this cell to show the HTML representation or trust the notebook. <br />On GitHub, the HTML representation is unable to render, please try loading this page with nbviewer.org.</b></div><div class=\"sk-container\" hidden><div class=\"sk-item\"><div class=\"sk-estimator sk-toggleable\"><input class=\"sk-toggleable__control sk-hidden--visually\" id=\"sk-estimator-id-5\" type=\"checkbox\" checked><label for=\"sk-estimator-id-5\" class=\"sk-toggleable__label sk-toggleable__label-arrow\">RandomForestClassifier</label><div class=\"sk-toggleable__content\"><pre>RandomForestClassifier(max_depth=10, n_estimators=130, random_state=12345)</pre></div></div></div></div></div>"
     },
     "execution_count": 42,
     "metadata": {},
     "output_type": "execute_result"
    }
   ],
   "source": [
    "model = RandomForestClassifier(max_depth=10, n_estimators=130, random_state=RANDOM_STATE)\n",
    "model.fit(features_train_up, target_train_up)"
   ],
   "metadata": {
    "collapsed": false
   }
  },
  {
   "cell_type": "markdown",
   "source": [
    "## Тестирование модели"
   ],
   "metadata": {
    "collapsed": false
   }
  },
  {
   "cell_type": "code",
   "execution_count": 43,
   "outputs": [
    {
     "data": {
      "text/plain": "'f1-мера 0.6376146788990825, auc-roc 0.8623046104417194'"
     },
     "execution_count": 43,
     "metadata": {},
     "output_type": "execute_result"
    }
   ],
   "source": [
    "# Проверим модель на тестовой выборке\n",
    "\n",
    "predicted_test = model.predict(features_test)\n",
    "f1_test = f1_score(target_test, predicted_test)\n",
    "\n",
    "f'f1-мера {f1_test}, auc-roc {calculation_of_aucroc(model, features_test, target_test)}'"
   ],
   "metadata": {
    "collapsed": false
   }
  },
  {
   "cell_type": "code",
   "execution_count": 44,
   "outputs": [],
   "source": [
    "# Сравним модель с константной\n",
    "\n",
    "dummy_model = DummyClassifier(strategy='constant', constant=1)\n",
    "dummy_model.fit(features_train, target_train)\n",
    "f1_dummy = f1_score(dummy_model.predict(features_test), target_test)"
   ],
   "metadata": {
    "collapsed": false
   }
  },
  {
   "cell_type": "code",
   "execution_count": 45,
   "outputs": [
    {
     "data": {
      "text/plain": "'0.28573993641865403'"
     },
     "execution_count": 45,
     "metadata": {},
     "output_type": "execute_result"
    }
   ],
   "source": [
    "# получим разницу метрик\n",
    "\n",
    "f'{f1_test - f1_dummy}'"
   ],
   "metadata": {
    "collapsed": false
   }
  },
  {
   "cell_type": "code",
   "execution_count": 46,
   "outputs": [
    {
     "data": {
      "text/plain": "0.6510538641686182"
     },
     "execution_count": 46,
     "metadata": {},
     "output_type": "execute_result"
    }
   ],
   "source": [
    "# посчитаем метрику полноты\n",
    "\n",
    "recall = recall_score(target_test, predicted_test)\n",
    "recall"
   ],
   "metadata": {
    "collapsed": false
   }
  },
  {
   "cell_type": "markdown",
   "source": [
    "**Общий вывод:**\n",
    "- Среди всех проведенных исследований лучшей моделью была определена модель \"Случайного леса\" с максимальной глубиной 10 в ансамбле из 130 деревьев, обученная на сбалансированных методом upsampling тренировочных данных.\n",
    "- При проверке данной модели на тестовой выборке она показала наилучшие метрики качества *F1-мера* и *AUC-ROC*, что говорит о правильном обучении модели.\n",
    "- При сравнении с константной моделью, предсказывающей положительный класс, наша модель показывает метрику на 0,286 выше.\n",
    "- Метрика recall, рассчитанная для тестовых данных, показывает, что 65 % положительных объектов модель смогла предсказать. Т.е. 65 % клиентов, желающих уйти из \"Бета-Банка\" модель определить смогла.\n",
    "\n",
    "Подводя итог, можно сказать, что данную модель можно использовать для определения клиентов, желающих уйти из банка. Более 65 % будут определены."
   ],
   "metadata": {
    "collapsed": false
   }
  },
  {
   "cell_type": "code",
   "execution_count": null,
   "outputs": [],
   "source": [],
   "metadata": {
    "collapsed": false
   }
  }
 ],
 "metadata": {
  "kernelspec": {
   "display_name": "Python 3",
   "language": "python",
   "name": "python3"
  },
  "language_info": {
   "codemirror_mode": {
    "name": "ipython",
    "version": 2
   },
   "file_extension": ".py",
   "mimetype": "text/x-python",
   "name": "python",
   "nbconvert_exporter": "python",
   "pygments_lexer": "ipython2",
   "version": "2.7.6"
  }
 },
 "nbformat": 4,
 "nbformat_minor": 0
}
